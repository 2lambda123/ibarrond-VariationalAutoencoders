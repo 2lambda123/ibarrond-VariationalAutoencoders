{
 "cells": [
  {
   "cell_type": "code",
   "execution_count": 1,
   "metadata": {},
   "outputs": [],
   "source": [
    "import numpy as np\n",
    "import time\n",
    "import gc"
   ]
  },
  {
   "cell_type": "code",
   "execution_count": 2,
   "metadata": {},
   "outputs": [
    {
     "name": "stdout",
     "output_type": "stream",
     "text": [
      "Extracting MNIST_data/train-images-idx3-ubyte.gz\n",
      "Extracting MNIST_data/train-labels-idx1-ubyte.gz\n",
      "Extracting MNIST_data/t10k-images-idx3-ubyte.gz\n",
      "Extracting MNIST_data/t10k-labels-idx1-ubyte.gz\n"
     ]
    }
   ],
   "source": [
    "from models.bayesian_vae import BayesianVAE"
   ]
  },
  {
   "cell_type": "code",
   "execution_count": 3,
   "metadata": {},
   "outputs": [
    {
     "name": "stdout",
     "output_type": "stream",
     "text": [
      "   [50.1] Epoch: 01 | NELBO: 434002388661258.937500 | ELL: -2288.297151 | KL: 434002388659594.562500 | Val. NELBO: 12014998600839.748047\n",
      "   [51.8] Epoch: 02 | NELBO: 164160887522992.343750 | ELL: -930.206348 | KL: 164160887522241.062500 | Val. NELBO: 423912834195.434509\n",
      "   [49.0] Epoch: 03 | NELBO: 168406334185457.781250 | ELL: -657.855192 | KL: 168406334184847.625000 | Val. NELBO: 159014885.967464\n",
      "   [49.9] Epoch: 04 | NELBO: 7399023567632.180664 | ELL: -509.058879 | KL: 7399023567151.307617 | Val. NELBO: 207873001451.444000\n",
      "   [49.0] Epoch: 05 | NELBO: 7288477237596.821289 | ELL: -419.646766 | KL: 7288477237208.266602 | Val. NELBO: 10632489463.805212\n",
      "   [48.9] Epoch: 06 | NELBO: 631091823970.908203 | ELL: -362.204462 | KL: 631091823626.569824 | Val. NELBO: 60507561560.084137\n",
      "   [48.1] Epoch: 07 | NELBO: nan | ELL: nan | KL: nan | Val. NELBO: nan\n",
      "   [48.5] Epoch: 08 | NELBO: nan | ELL: nan | KL: nan | Val. NELBO: nan\n"
     ]
    },
    {
     "ename": "KeyboardInterrupt",
     "evalue": "",
     "output_type": "error",
     "traceback": [
      "\u001b[0;31m---------------------------------------------------------------------------\u001b[0m",
      "\u001b[0;31mKeyboardInterrupt\u001b[0m                         Traceback (most recent call last)",
      "\u001b[0;32m<ipython-input-3-08c9fccfb493>\u001b[0m in \u001b[0;36m<module>\u001b[0;34m()\u001b[0m\n\u001b[1;32m      6\u001b[0m                  batch_size = 128)\n\u001b[1;32m      7\u001b[0m \u001b[0;34m\u001b[0m\u001b[0m\n\u001b[0;32m----> 8\u001b[0;31m \u001b[0mVA\u001b[0m\u001b[0;34m.\u001b[0m\u001b[0mlearn\u001b[0m\u001b[0;34m(\u001b[0m\u001b[0mepochs\u001b[0m\u001b[0;34m=\u001b[0m\u001b[0;36m100\u001b[0m\u001b[0;34m,\u001b[0m \u001b[0mlearning_rate\u001b[0m\u001b[0;34m=\u001b[0m\u001b[0;36m0.01\u001b[0m\u001b[0;34m)\u001b[0m\u001b[0;34m\u001b[0m\u001b[0m\n\u001b[0m",
      "\u001b[0;32m~/python-projects/autoencoders-filippone/VariationalAutoencoders/models/bayesian_vae.py\u001b[0m in \u001b[0;36mlearn\u001b[0;34m(self, learning_rate, epochs)\u001b[0m\n\u001b[1;32m    312\u001b[0m                 _, loss, ell, kl, summary = self.session.run(\n\u001b[1;32m    313\u001b[0m                     \u001b[0;34m[\u001b[0m\u001b[0mtrain_step\u001b[0m\u001b[0;34m,\u001b[0m \u001b[0mself\u001b[0m\u001b[0;34m.\u001b[0m\u001b[0mloss\u001b[0m\u001b[0;34m,\u001b[0m \u001b[0mself\u001b[0m\u001b[0;34m.\u001b[0m\u001b[0mell\u001b[0m\u001b[0;34m,\u001b[0m \u001b[0mself\u001b[0m\u001b[0;34m.\u001b[0m\u001b[0mkl\u001b[0m\u001b[0;34m,\u001b[0m \u001b[0mmerged\u001b[0m\u001b[0;34m]\u001b[0m\u001b[0;34m,\u001b[0m\u001b[0;34m\u001b[0m\u001b[0m\n\u001b[0;32m--> 314\u001b[0;31m                     feed_dict={self.X: batch_xs, self.Y: batch_xs})\n\u001b[0m\u001b[1;32m    315\u001b[0m                 \u001b[0mtrain_writer\u001b[0m\u001b[0;34m.\u001b[0m\u001b[0madd_summary\u001b[0m\u001b[0;34m(\u001b[0m\u001b[0msummary\u001b[0m\u001b[0;34m,\u001b[0m \u001b[0mi\u001b[0m\u001b[0;34m)\u001b[0m\u001b[0;34m\u001b[0m\u001b[0m\n\u001b[1;32m    316\u001b[0m                 \u001b[0mtrain_cost\u001b[0m \u001b[0;34m+=\u001b[0m \u001b[0mloss\u001b[0m\u001b[0;34m\u001b[0m\u001b[0m\n",
      "\u001b[0;32m~/python-projects/environments/tf-simd/lib/python3.5/site-packages/tensorflow/python/client/session.py\u001b[0m in \u001b[0;36mrun\u001b[0;34m(self, fetches, feed_dict, options, run_metadata)\u001b[0m\n\u001b[1;32m    887\u001b[0m     \u001b[0;32mtry\u001b[0m\u001b[0;34m:\u001b[0m\u001b[0;34m\u001b[0m\u001b[0m\n\u001b[1;32m    888\u001b[0m       result = self._run(None, fetches, feed_dict, options_ptr,\n\u001b[0;32m--> 889\u001b[0;31m                          run_metadata_ptr)\n\u001b[0m\u001b[1;32m    890\u001b[0m       \u001b[0;32mif\u001b[0m \u001b[0mrun_metadata\u001b[0m\u001b[0;34m:\u001b[0m\u001b[0;34m\u001b[0m\u001b[0m\n\u001b[1;32m    891\u001b[0m         \u001b[0mproto_data\u001b[0m \u001b[0;34m=\u001b[0m \u001b[0mtf_session\u001b[0m\u001b[0;34m.\u001b[0m\u001b[0mTF_GetBuffer\u001b[0m\u001b[0;34m(\u001b[0m\u001b[0mrun_metadata_ptr\u001b[0m\u001b[0;34m)\u001b[0m\u001b[0;34m\u001b[0m\u001b[0m\n",
      "\u001b[0;32m~/python-projects/environments/tf-simd/lib/python3.5/site-packages/tensorflow/python/client/session.py\u001b[0m in \u001b[0;36m_run\u001b[0;34m(self, handle, fetches, feed_dict, options, run_metadata)\u001b[0m\n\u001b[1;32m   1118\u001b[0m     \u001b[0;32mif\u001b[0m \u001b[0mfinal_fetches\u001b[0m \u001b[0;32mor\u001b[0m \u001b[0mfinal_targets\u001b[0m \u001b[0;32mor\u001b[0m \u001b[0;34m(\u001b[0m\u001b[0mhandle\u001b[0m \u001b[0;32mand\u001b[0m \u001b[0mfeed_dict_tensor\u001b[0m\u001b[0;34m)\u001b[0m\u001b[0;34m:\u001b[0m\u001b[0;34m\u001b[0m\u001b[0m\n\u001b[1;32m   1119\u001b[0m       results = self._do_run(handle, final_targets, final_fetches,\n\u001b[0;32m-> 1120\u001b[0;31m                              feed_dict_tensor, options, run_metadata)\n\u001b[0m\u001b[1;32m   1121\u001b[0m     \u001b[0;32melse\u001b[0m\u001b[0;34m:\u001b[0m\u001b[0;34m\u001b[0m\u001b[0m\n\u001b[1;32m   1122\u001b[0m       \u001b[0mresults\u001b[0m \u001b[0;34m=\u001b[0m \u001b[0;34m[\u001b[0m\u001b[0;34m]\u001b[0m\u001b[0;34m\u001b[0m\u001b[0m\n",
      "\u001b[0;32m~/python-projects/environments/tf-simd/lib/python3.5/site-packages/tensorflow/python/client/session.py\u001b[0m in \u001b[0;36m_do_run\u001b[0;34m(self, handle, target_list, fetch_list, feed_dict, options, run_metadata)\u001b[0m\n\u001b[1;32m   1315\u001b[0m     \u001b[0;32mif\u001b[0m \u001b[0mhandle\u001b[0m \u001b[0;32mis\u001b[0m \u001b[0;32mNone\u001b[0m\u001b[0;34m:\u001b[0m\u001b[0;34m\u001b[0m\u001b[0m\n\u001b[1;32m   1316\u001b[0m       return self._do_call(_run_fn, self._session, feeds, fetches, targets,\n\u001b[0;32m-> 1317\u001b[0;31m                            options, run_metadata)\n\u001b[0m\u001b[1;32m   1318\u001b[0m     \u001b[0;32melse\u001b[0m\u001b[0;34m:\u001b[0m\u001b[0;34m\u001b[0m\u001b[0m\n\u001b[1;32m   1319\u001b[0m       \u001b[0;32mreturn\u001b[0m \u001b[0mself\u001b[0m\u001b[0;34m.\u001b[0m\u001b[0m_do_call\u001b[0m\u001b[0;34m(\u001b[0m\u001b[0m_prun_fn\u001b[0m\u001b[0;34m,\u001b[0m \u001b[0mself\u001b[0m\u001b[0;34m.\u001b[0m\u001b[0m_session\u001b[0m\u001b[0;34m,\u001b[0m \u001b[0mhandle\u001b[0m\u001b[0;34m,\u001b[0m \u001b[0mfeeds\u001b[0m\u001b[0;34m,\u001b[0m \u001b[0mfetches\u001b[0m\u001b[0;34m)\u001b[0m\u001b[0;34m\u001b[0m\u001b[0m\n",
      "\u001b[0;32m~/python-projects/environments/tf-simd/lib/python3.5/site-packages/tensorflow/python/client/session.py\u001b[0m in \u001b[0;36m_do_call\u001b[0;34m(self, fn, *args)\u001b[0m\n\u001b[1;32m   1321\u001b[0m   \u001b[0;32mdef\u001b[0m \u001b[0m_do_call\u001b[0m\u001b[0;34m(\u001b[0m\u001b[0mself\u001b[0m\u001b[0;34m,\u001b[0m \u001b[0mfn\u001b[0m\u001b[0;34m,\u001b[0m \u001b[0;34m*\u001b[0m\u001b[0margs\u001b[0m\u001b[0;34m)\u001b[0m\u001b[0;34m:\u001b[0m\u001b[0;34m\u001b[0m\u001b[0m\n\u001b[1;32m   1322\u001b[0m     \u001b[0;32mtry\u001b[0m\u001b[0;34m:\u001b[0m\u001b[0;34m\u001b[0m\u001b[0m\n\u001b[0;32m-> 1323\u001b[0;31m       \u001b[0;32mreturn\u001b[0m \u001b[0mfn\u001b[0m\u001b[0;34m(\u001b[0m\u001b[0;34m*\u001b[0m\u001b[0margs\u001b[0m\u001b[0;34m)\u001b[0m\u001b[0;34m\u001b[0m\u001b[0m\n\u001b[0m\u001b[1;32m   1324\u001b[0m     \u001b[0;32mexcept\u001b[0m \u001b[0merrors\u001b[0m\u001b[0;34m.\u001b[0m\u001b[0mOpError\u001b[0m \u001b[0;32mas\u001b[0m \u001b[0me\u001b[0m\u001b[0;34m:\u001b[0m\u001b[0;34m\u001b[0m\u001b[0m\n\u001b[1;32m   1325\u001b[0m       \u001b[0mmessage\u001b[0m \u001b[0;34m=\u001b[0m \u001b[0mcompat\u001b[0m\u001b[0;34m.\u001b[0m\u001b[0mas_text\u001b[0m\u001b[0;34m(\u001b[0m\u001b[0me\u001b[0m\u001b[0;34m.\u001b[0m\u001b[0mmessage\u001b[0m\u001b[0;34m)\u001b[0m\u001b[0;34m\u001b[0m\u001b[0m\n",
      "\u001b[0;32m~/python-projects/environments/tf-simd/lib/python3.5/site-packages/tensorflow/python/client/session.py\u001b[0m in \u001b[0;36m_run_fn\u001b[0;34m(session, feed_dict, fetch_list, target_list, options, run_metadata)\u001b[0m\n\u001b[1;32m   1300\u001b[0m           return tf_session.TF_Run(session, options,\n\u001b[1;32m   1301\u001b[0m                                    \u001b[0mfeed_dict\u001b[0m\u001b[0;34m,\u001b[0m \u001b[0mfetch_list\u001b[0m\u001b[0;34m,\u001b[0m \u001b[0mtarget_list\u001b[0m\u001b[0;34m,\u001b[0m\u001b[0;34m\u001b[0m\u001b[0m\n\u001b[0;32m-> 1302\u001b[0;31m                                    status, run_metadata)\n\u001b[0m\u001b[1;32m   1303\u001b[0m \u001b[0;34m\u001b[0m\u001b[0m\n\u001b[1;32m   1304\u001b[0m     \u001b[0;32mdef\u001b[0m \u001b[0m_prun_fn\u001b[0m\u001b[0;34m(\u001b[0m\u001b[0msession\u001b[0m\u001b[0;34m,\u001b[0m \u001b[0mhandle\u001b[0m\u001b[0;34m,\u001b[0m \u001b[0mfeed_dict\u001b[0m\u001b[0;34m,\u001b[0m \u001b[0mfetch_list\u001b[0m\u001b[0;34m)\u001b[0m\u001b[0;34m:\u001b[0m\u001b[0;34m\u001b[0m\u001b[0m\n",
      "\u001b[0;31mKeyboardInterrupt\u001b[0m: "
     ]
    }
   ],
   "source": [
    "VA = BayesianVAE(\n",
    "                 n_inputs=784,\n",
    "                 n_neurons_encoder = [256, 128],\n",
    "                 n_latent=2,\n",
    "                 n_neurons_decoder = [128, 256],\n",
    "                 batch_size = 128)\n",
    "\n",
    "VA.learn(epochs=100, learning_rate=0.01)"
   ]
  },
  {
   "cell_type": "code",
   "execution_count": 3,
   "metadata": {
    "scrolled": true
   },
   "outputs": [
    {
     "name": "stdout",
     "output_type": "stream",
     "text": [
      "   [6.3] Epoch: 01 | NELBO: 213044991401605.218750 | ELL: -3283.811230 | KL: 213044991399070.031250 | Val. NELBO: 5687040019.075765\n",
      "   [6.2] Epoch: 02 | NELBO: 523532755814059.812500 | ELL: -1486.040410 | KL: 523532755812704.125000 | Val. NELBO: 153911008.611666\n",
      "   [6.2] Epoch: 03 | NELBO: 12070876659.853209 | ELL: -1273.108500 | KL: 12070875416.267174 | Val. NELBO: 623297785.408945\n",
      "   [6.5] Epoch: 04 | NELBO: 4032169349621.004883 | ELL: -1123.077630 | KL: 4032169348526.469727 | Val. NELBO: 590286676.061173\n",
      "   [6.3] Epoch: 05 | NELBO: 23501859074.423878 | ELL: -996.276533 | KL: 23501858093.543961 | Val. NELBO: 202393862093.026855\n",
      "   [6.6] Epoch: 06 | NELBO: 224906149813460.375000 | ELL: -884.426399 | KL: 224906149812593.093750 | Val. NELBO: 9380447.297864\n",
      "   [6.8] Epoch: 07 | NELBO: 6544474562.921355 | ELL: -795.442227 | KL: 6544473774.115122 | Val. NELBO: 190067314.638137\n",
      "   [6.6] Epoch: 08 | NELBO: 684695070384.329956 | ELL: -719.570887 | KL: 684695069681.216797 | Val. NELBO: 2454158.246361\n",
      "   [6.7] Epoch: 09 | NELBO: 873563882374.310303 | ELL: -658.229667 | KL: 873563881716.688232 | Val. NELBO: 27532.858040\n",
      "   [6.5] Epoch: 10 | NELBO: 26602564.696979 | ELL: -605.261682 | KL: 26601958.369917 | Val. NELBO: 3708431.060365\n",
      "   [6.7] Epoch: 11 | NELBO: 1097003155.638867 | ELL: -558.542662 | KL: 1097002597.562201 | Val. NELBO: 146735033.627842\n",
      "   [6.5] Epoch: 12 | NELBO: 9692331303897.574219 | ELL: -522.322561 | KL: 9692331303379.115234 | Val. NELBO: 2857.327307\n",
      "   [6.5] Epoch: 13 | NELBO: 917106.333732 | ELL: -493.814277 | KL: 916612.556500 | Val. NELBO: 9969.102846\n",
      "   [6.7] Epoch: 14 | NELBO: 3988801.101016 | ELL: -465.563087 | KL: 3988335.485160 | Val. NELBO: 277580.767306\n",
      "   [6.8] Epoch: 15 | NELBO: 1691910.901242 | ELL: -438.304139 | KL: 1691472.638298 | Val. NELBO: 61556514.843201\n",
      "   [7.7] Epoch: 16 | NELBO: 213840600.365944 | ELL: -419.582892 | KL: 213840181.748760 | Val. NELBO: 745.990855\n",
      "   [7.1] Epoch: 17 | NELBO: 14792.533834 | ELL: -399.201502 | KL: 14393.332171 | Val. NELBO: 25519.930693\n",
      "   [6.5] Epoch: 18 | NELBO: 3341703.830412 | ELL: -382.965829 | KL: 3341320.820614 | Val. NELBO: 811.232029\n",
      "   [6.5] Epoch: 19 | NELBO: 1968566.342959 | ELL: -370.271161 | KL: 1968196.087463 | Val. NELBO: 30562.401913\n",
      "   [6.5] Epoch: 20 | NELBO: 11768573.788444 | ELL: -357.183496 | KL: 11768216.265368 | Val. NELBO: 548915.318120\n",
      "   [6.5] Epoch: 21 | NELBO: 340042.549365 | ELL: -346.582205 | KL: 339695.969998 | Val. NELBO: 83786.151333\n",
      "   [7.2] Epoch: 22 | NELBO: 2147252.045605 | ELL: -337.731062 | KL: 2146914.301211 | Val. NELBO: 694.277044\n",
      "   [7.1] Epoch: 23 | NELBO: 37422036.354313 | ELL: -326.451311 | KL: 37421710.642274 | Val. NELBO: 761.165543\n",
      "   [6.5] Epoch: 24 | NELBO: 101652.811197 | ELL: -319.516467 | KL: 101333.294668 | Val. NELBO: 862.353637\n",
      "   [6.5] Epoch: 25 | NELBO: 38053.639890 | ELL: -312.614197 | KL: 37741.026108 | Val. NELBO: 70547.276609\n",
      "   [6.5] Epoch: 26 | NELBO: 9455743005.277269 | ELL: -307.416761 | KL: 9455742698.594900 | Val. NELBO: 18963.457803\n",
      "   [6.6] Epoch: 27 | NELBO: 209052371.393132 | ELL: -302.877448 | KL: 209052069.213525 | Val. NELBO: 59147.326828\n",
      "   [7.7] Epoch: 28 | NELBO: 2731559.584789 | ELL: -298.215755 | KL: 2731261.339135 | Val. NELBO: 142428.900862\n",
      "   [6.6] Epoch: 29 | NELBO: 418955.630186 | ELL: -294.197475 | KL: 418661.436670 | Val. NELBO: 1453294.967184\n",
      "   [6.6] Epoch: 30 | NELBO: 10123287.505132 | ELL: -291.254034 | KL: 10122996.349139 | Val. NELBO: 96213.901214\n",
      "   [7.7] Epoch: 31 | NELBO: 157526.283721 | ELL: -288.370238 | KL: 157237.911186 | Val. NELBO: 1862414.202514\n",
      "   [7.7] Epoch: 32 | NELBO: 3293983788.249780 | ELL: -284.403465 | KL: 3293983504.501937 | Val. NELBO: 210952.169441\n",
      "   [6.9] Epoch: 33 | NELBO: 500188329.759946 | ELL: -283.350619 | KL: 500188047.105331 | Val. NELBO: 84913.025966\n",
      "   [6.5] Epoch: 34 | NELBO: 55747.734682 | ELL: -280.888140 | KL: 55466.847230 | Val. NELBO: 390.139926\n",
      "   [6.5] Epoch: 35 | NELBO: 116843721.133448 | ELL: -279.057558 | KL: 116843442.757897 | Val. NELBO: 670.469994\n",
      "   [7.0] Epoch: 36 | NELBO: 421780.487987 | ELL: -275.702131 | KL: 421504.802831 | Val. NELBO: 2630284.859890\n",
      "   [6.7] Epoch: 37 | NELBO: 947049.450097 | ELL: -275.889285 | KL: 946773.564511 | Val. NELBO: 596.791631\n",
      "   [6.7] Epoch: 38 | NELBO: 30448463.195317 | ELL: -271.225417 | KL: 30448192.611046 | Val. NELBO: 4264.947292\n",
      "   [7.0] Epoch: 39 | NELBO: 85110402.615852 | ELL: -270.659957 | KL: 85110132.569450 | Val. NELBO: 132225.650801\n",
      "   [7.1] Epoch: 40 | NELBO: 450648.215027 | ELL: -265.900083 | KL: 450382.314172 | Val. NELBO: 100608.902701\n",
      "   [6.6] Epoch: 41 | NELBO: 819681.544736 | ELL: -266.386883 | KL: 819415.149763 | Val. NELBO: 47996548.054391\n",
      "   [6.5] Epoch: 42 | NELBO: 187238.159281 | ELL: -262.203900 | KL: 186975.957055 | Val. NELBO: 2713463.033275\n",
      "   [6.5] Epoch: 43 | NELBO: 302165.803485 | ELL: -260.436048 | KL: 301905.372935 | Val. NELBO: 530.232023\n",
      "   [6.9] Epoch: 44 | NELBO: 6961072.689352 | ELL: -259.042529 | KL: 6960813.621151 | Val. NELBO: 4087.695715\n",
      "   [6.5] Epoch: 45 | NELBO: 22090.295883 | ELL: -256.493464 | KL: 21833.802255 | Val. NELBO: 1128226.822344\n",
      "   [6.5] Epoch: 46 | NELBO: 5384541.115013 | ELL: -252.981423 | KL: 5384288.134548 | Val. NELBO: 518801581776.453247\n",
      "   [6.7] Epoch: 47 | NELBO: 742629.078256 | ELL: -253.370476 | KL: 742375.722821 | Val. NELBO: 280.576463\n",
      "   [6.8] Epoch: 48 | NELBO: 686084297.807353 | ELL: -250.406818 | KL: 686084048.614790 | Val. NELBO: 449.812613\n",
      "   [6.6] Epoch: 49 | NELBO: 23461.465997 | ELL: -247.627319 | KL: 23213.839312 | Val. NELBO: 8782.528728\n",
      "   [6.5] Epoch: 50 | NELBO: 3653110.311598 | ELL: -246.871319 | KL: 3652863.375602 | Val. NELBO: 487.737461\n",
      "   [6.5] Epoch: 51 | NELBO: 11723.601351 | ELL: -245.505995 | KL: 11478.095255 | Val. NELBO: 35958.536627\n",
      "   [6.5] Epoch: 52 | NELBO: 47389.942854 | ELL: -244.896104 | KL: 47145.047543 | Val. NELBO: 111663.981133\n",
      "   [6.5] Epoch: 53 | NELBO: 48092.948563 | ELL: -244.232788 | KL: 47848.714843 | Val. NELBO: 2203.737696\n",
      "   [6.5] Epoch: 54 | NELBO: 1455355724.779911 | ELL: -243.589426 | KL: 1455355481.798567 | Val. NELBO: 86379953.439896\n",
      "   [6.5] Epoch: 55 | NELBO: 1031047.156724 | ELL: -243.190353 | KL: 1030803.926420 | Val. NELBO: 22203.604120\n",
      "   [6.5] Epoch: 56 | NELBO: 105291.644084 | ELL: -242.702105 | KL: 105048.938048 | Val. NELBO: 288.566481\n",
      "   [6.5] Epoch: 57 | NELBO: 30211.452464 | ELL: -242.803027 | KL: 29968.649313 | Val. NELBO: 823.801058\n",
      "   [6.9] Epoch: 58 | NELBO: 207825.465767 | ELL: -241.680984 | KL: 207583.787703 | Val. NELBO: 274.674005\n",
      "   [6.8] Epoch: 59 | NELBO: 5788.325912 | ELL: -240.983904 | KL: 5547.341924 | Val. NELBO: 268.849123\n",
      "   [6.5] Epoch: 60 | NELBO: 159824.704924 | ELL: -240.798676 | KL: 159583.907598 | Val. NELBO: 74592.871469\n",
      "   [6.5] Epoch: 61 | NELBO: 728011.230274 | ELL: -240.316374 | KL: 727770.910327 | Val. NELBO: 394.315335\n",
      "   [6.5] Epoch: 62 | NELBO: 46628446.173587 | ELL: -240.754035 | KL: 46628205.962098 | Val. NELBO: 267.439989\n",
      "   [6.5] Epoch: 63 | NELBO: 3131.911203 | ELL: -240.001368 | KL: 2891.909852 | Val. NELBO: 3105.889791\n",
      "   [6.7] Epoch: 64 | NELBO: 396.774987 | ELL: -240.073530 | KL: 156.701456 | Val. NELBO: 264.776497\n",
      "   [6.5] Epoch: 65 | NELBO: 51127.771287 | ELL: -239.090900 | KL: 50888.680630 | Val. NELBO: 264.876422\n",
      "   [6.5] Epoch: 66 | NELBO: 3752.988886 | ELL: -239.229428 | KL: 3513.759446 | Val. NELBO: 260.451138\n",
      "   [6.5] Epoch: 67 | NELBO: 236563.132326 | ELL: -239.156875 | KL: 236323.979344 | Val. NELBO: 273.408792\n",
      "   [6.5] Epoch: 68 | NELBO: 4930.737014 | ELL: -239.491721 | KL: 4691.245373 | Val. NELBO: 288.161607\n",
      "   [6.5] Epoch: 69 | NELBO: 89831.701497 | ELL: -238.428186 | KL: 89593.275779 | Val. NELBO: 813.999933\n",
      "   [6.5] Epoch: 70 | NELBO: 7738.015850 | ELL: -239.435118 | KL: 7498.580989 | Val. NELBO: 683.898581\n",
      "   [6.5] Epoch: 71 | NELBO: 4863.701628 | ELL: -237.886031 | KL: 4625.815574 | Val. NELBO: 264.677253\n",
      "   [6.5] Epoch: 72 | NELBO: 1217.732950 | ELL: -238.029651 | KL: 979.703302 | Val. NELBO: 430.922518\n",
      "   [6.5] Epoch: 73 | NELBO: 6296.626075 | ELL: -239.109669 | KL: 6057.516401 | Val. NELBO: 258.050166\n",
      "   [6.5] Epoch: 74 | NELBO: 20778815.058060 | ELL: -238.639373 | KL: 20778577.216510 | Val. NELBO: 136716.315013\n",
      "   [6.5] Epoch: 75 | NELBO: 326.725967 | ELL: -237.475186 | KL: 89.250783 | Val. NELBO: 266.408696\n"
     ]
    },
    {
     "name": "stdout",
     "output_type": "stream",
     "text": [
      "   [6.5] Epoch: 76 | NELBO: 5738.594208 | ELL: -238.499682 | KL: 5500.094451 | Val. NELBO: 264.569535\n",
      "   [6.5] Epoch: 77 | NELBO: 428.858122 | ELL: -237.709573 | KL: 191.148543 | Val. NELBO: 14258.107128\n",
      "   [6.6] Epoch: 78 | NELBO: 1350.237179 | ELL: -238.210018 | KL: 1112.027190 | Val. NELBO: 685.838767\n",
      "   [6.5] Epoch: 79 | NELBO: 84608.389773 | ELL: -237.853405 | KL: 84370.536444 | Val. NELBO: 390.407293\n",
      "   [6.7] Epoch: 80 | NELBO: 60799.103507 | ELL: -237.206550 | KL: 60561.894981 | Val. NELBO: 271.268948\n",
      "   [6.4] Epoch: 81 | NELBO: 386.505245 | ELL: -238.032333 | KL: 148.472916 | Val. NELBO: 270.255411\n",
      "   [6.5] Epoch: 82 | NELBO: 10012.467517 | ELL: -237.629767 | KL: 9774.837785 | Val. NELBO: 273.580713\n",
      "   [7.1] Epoch: 83 | NELBO: 1090069.936196 | ELL: -237.115035 | KL: 1089832.836211 | Val. NELBO: 267.712983\n",
      "   [6.8] Epoch: 84 | NELBO: 270.532220 | ELL: -237.107843 | KL: 33.424377 | Val. NELBO: 264.848584\n",
      "   [8.2] Epoch: 85 | NELBO: 270.468232 | ELL: -237.127678 | KL: 33.340553 | Val. NELBO: 266.846286\n",
      "   [6.6] Epoch: 86 | NELBO: 269.993603 | ELL: -237.891447 | KL: 32.102156 | Val. NELBO: 271.783254\n",
      "   [6.5] Epoch: 87 | NELBO: 266.245519 | ELL: -236.632977 | KL: 29.612543 | Val. NELBO: 266.355223\n",
      "   [6.6] Epoch: 88 | NELBO: 276.807951 | ELL: -237.637670 | KL: 39.170280 | Val. NELBO: 267.928067\n",
      "   [6.7] Epoch: 89 | NELBO: 268.920880 | ELL: -237.461093 | KL: 31.459788 | Val. NELBO: 265.983473\n",
      "   [7.5] Epoch: 90 | NELBO: 265.628201 | ELL: -236.984814 | KL: 28.643386 | Val. NELBO: 264.600714\n",
      "   [6.7] Epoch: 91 | NELBO: 288.459995 | ELL: -237.798146 | KL: 50.661849 | Val. NELBO: 264.842628\n",
      "   [6.5] Epoch: 92 | NELBO: 570.776764 | ELL: -236.966781 | KL: 333.809984 | Val. NELBO: 263.356686\n",
      "   [6.5] Epoch: 93 | NELBO: 314.473497 | ELL: -241.145262 | KL: 73.328234 | Val. NELBO: 265.636779\n",
      "   [6.5] Epoch: 94 | NELBO: 269.817309 | ELL: -236.981209 | KL: 32.836098 | Val. NELBO: 263.080593\n",
      "   [6.5] Epoch: 95 | NELBO: 1690.827034 | ELL: -237.188084 | KL: 1453.638934 | Val. NELBO: 267.854486\n",
      "   [6.6] Epoch: 96 | NELBO: 282.365626 | ELL: -236.778535 | KL: 45.587091 | Val. NELBO: 278.789287\n",
      "   [6.5] Epoch: 97 | NELBO: 274.531683 | ELL: -236.795947 | KL: 37.735736 | Val. NELBO: 297.876449\n",
      "   [6.6] Epoch: 98 | NELBO: 294.647838 | ELL: -236.790426 | KL: 57.857411 | Val. NELBO: 270.987917\n",
      "   [6.5] Epoch: 99 | NELBO: 287.829529 | ELL: -237.560208 | KL: 50.269321 | Val. NELBO: 262.779753\n",
      "   [6.5] Epoch: 100 | NELBO: 1138.115676 | ELL: -236.877594 | KL: 901.238070 | Val. NELBO: 7573.334737\n"
     ]
    }
   ],
   "source": [
    "VA = BayesianVAE(\n",
    "                 n_inputs=784,\n",
    "                 n_neurons_encoder = [256, 128],\n",
    "                 n_latent=2,\n",
    "                 n_neurons_decoder = [128, 256],\n",
    "                 batch_size = 128)\n",
    "\n",
    "VA.learn(epochs=100, learning_rate=0.01)"
   ]
  },
  {
   "cell_type": "code",
   "execution_count": 3,
   "metadata": {
    "scrolled": true
   },
   "outputs": [
    {
     "name": "stdout",
     "output_type": "stream",
     "text": [
      "   [11.2] Epoch: 01 | NELBO: 3395.965656 | ELL: -3384.741859 | KL: 11.223798 | Val. NELBO: 1831.526214\n",
      "   [13.4] Epoch: 02 | NELBO: 1543.258856 | ELL: -1538.906390 | KL: 4.352465 | Val. NELBO: 1409.705275\n",
      "   [11.8] Epoch: 03 | NELBO: 1358.243193 | ELL: -1354.395350 | KL: 3.847844 | Val. NELBO: 1315.095018\n",
      "   [11.3] Epoch: 04 | NELBO: 1258.299690 | ELL: -1254.355145 | KL: 3.944542 | Val. NELBO: 1212.587108\n",
      "   [11.5] Epoch: 05 | NELBO: 1171.251514 | ELL: -1166.743909 | KL: 4.507603 | Val. NELBO: 1131.021387\n",
      "   [11.5] Epoch: 06 | NELBO: 1091.961397 | ELL: -1087.068804 | KL: 4.892595 | Val. NELBO: 1057.111873\n",
      "   [11.4] Epoch: 07 | NELBO: 1020.323016 | ELL: -1014.836027 | KL: 5.486989 | Val. NELBO: 985.631216\n",
      "   [11.3] Epoch: 08 | NELBO: 951.712779 | ELL: -945.692566 | KL: 6.020214 | Val. NELBO: 916.121513\n",
      "   [11.5] Epoch: 09 | NELBO: 893.965377 | ELL: -887.549199 | KL: 6.416178 | Val. NELBO: 866.718741\n",
      "   [11.5] Epoch: 10 | NELBO: 837.851011 | ELL: -830.572783 | KL: 7.278229 | Val. NELBO: 810.745940\n",
      "   [11.7] Epoch: 11 | NELBO: 790.818984 | ELL: -783.122216 | KL: 7.696770 | Val. NELBO: 764.346772\n",
      "   [11.5] Epoch: 12 | NELBO: 747.089918 | ELL: -738.661300 | KL: 8.428619 | Val. NELBO: 733.714291\n",
      "   [12.0] Epoch: 13 | NELBO: 706.086170 | ELL: -696.831823 | KL: 9.254346 | Val. NELBO: 685.566336\n",
      "   [11.5] Epoch: 14 | NELBO: 670.589636 | ELL: -660.863983 | KL: 9.725653 | Val. NELBO: 653.712041\n",
      "   [11.3] Epoch: 15 | NELBO: 638.378149 | ELL: -627.338014 | KL: 11.040135 | Val. NELBO: 617.034497\n",
      "   [11.6] Epoch: 16 | NELBO: 605.467201 | ELL: -593.877428 | KL: 11.589773 | Val. NELBO: 591.437278\n",
      "   [11.5] Epoch: 17 | NELBO: 580.164701 | ELL: -566.905598 | KL: 13.259104 | Val. NELBO: 573.774754\n",
      "   [11.3] Epoch: 18 | NELBO: 561.818401 | ELL: -547.028954 | KL: 14.789447 | Val. NELBO: 546.816102\n",
      "   [11.6] Epoch: 19 | NELBO: 538.400972 | ELL: -522.712851 | KL: 15.688121 | Val. NELBO: 528.932914\n",
      "   [11.5] Epoch: 20 | NELBO: 517.886917 | ELL: -501.279933 | KL: 16.606984 | Val. NELBO: 509.138459\n",
      "   [11.6] Epoch: 21 | NELBO: 502.248412 | ELL: -484.834519 | KL: 17.413894 | Val. NELBO: 492.514914\n",
      "   [11.4] Epoch: 22 | NELBO: 485.050930 | ELL: -466.674377 | KL: 18.376552 | Val. NELBO: 473.185738\n",
      "   [11.5] Epoch: 23 | NELBO: 468.716991 | ELL: -449.715324 | KL: 19.001667 | Val. NELBO: 463.270343\n",
      "   [11.6] Epoch: 24 | NELBO: 456.602897 | ELL: -436.883843 | KL: 19.719053 | Val. NELBO: 450.660105\n",
      "   [11.4] Epoch: 25 | NELBO: 442.048762 | ELL: -422.243603 | KL: 19.805160 | Val. NELBO: 435.769159\n",
      "   [12.1] Epoch: 26 | NELBO: 438.703626 | ELL: -418.365413 | KL: 20.338213 | Val. NELBO: 434.384519\n",
      "   [11.5] Epoch: 27 | NELBO: 420.289345 | ELL: -399.955046 | KL: 20.334299 | Val. NELBO: 417.488011\n",
      "   [11.8] Epoch: 28 | NELBO: 409.467061 | ELL: -389.126727 | KL: 20.340333 | Val. NELBO: 405.517088\n",
      "   [11.4] Epoch: 29 | NELBO: 399.380137 | ELL: -379.212180 | KL: 20.167958 | Val. NELBO: 397.027584\n",
      "   [11.7] Epoch: 30 | NELBO: 392.302822 | ELL: -371.584004 | KL: 20.718818 | Val. NELBO: 384.205660\n",
      "   [12.3] Epoch: 31 | NELBO: 388.006513 | ELL: -367.208278 | KL: 20.798235 | Val. NELBO: 380.296787\n",
      "   [12.2] Epoch: 32 | NELBO: 376.025360 | ELL: -355.888359 | KL: 20.137001 | Val. NELBO: 371.409370\n",
      "   [12.3] Epoch: 33 | NELBO: 368.827284 | ELL: -348.908732 | KL: 19.918552 | Val. NELBO: 369.814073\n",
      "   [12.0] Epoch: 34 | NELBO: 362.320250 | ELL: -342.693694 | KL: 19.626555 | Val. NELBO: 360.158251\n",
      "   [12.0] Epoch: 35 | NELBO: 356.029480 | ELL: -336.925033 | KL: 19.104447 | Val. NELBO: 356.200495\n",
      "   [11.9] Epoch: 36 | NELBO: 351.479219 | ELL: -332.643569 | KL: 18.835650 | Val. NELBO: 348.638750\n",
      "   [11.6] Epoch: 37 | NELBO: 346.346531 | ELL: -327.619181 | KL: 18.727351 | Val. NELBO: 342.719226\n",
      "   [11.7] Epoch: 38 | NELBO: 340.936470 | ELL: -322.554532 | KL: 18.381938 | Val. NELBO: 340.948341\n",
      "   [11.7] Epoch: 39 | NELBO: 336.878806 | ELL: -318.932800 | KL: 17.946006 | Val. NELBO: 337.194938\n",
      "   [11.8] Epoch: 40 | NELBO: 333.086606 | ELL: -315.269650 | KL: 17.816956 | Val. NELBO: 329.914545\n",
      "   [11.5] Epoch: 41 | NELBO: 328.446677 | ELL: -311.128508 | KL: 17.318169 | Val. NELBO: 327.322288\n",
      "   [11.7] Epoch: 42 | NELBO: 325.039713 | ELL: -308.042229 | KL: 16.997483 | Val. NELBO: 325.764158\n",
      "   [11.8] Epoch: 43 | NELBO: 322.006641 | ELL: -305.032474 | KL: 16.974166 | Val. NELBO: 321.088564\n",
      "   [11.7] Epoch: 44 | NELBO: 319.444619 | ELL: -302.657533 | KL: 16.787084 | Val. NELBO: 320.179686\n",
      "   [11.5] Epoch: 45 | NELBO: 316.390822 | ELL: -299.692003 | KL: 16.698818 | Val. NELBO: 315.769621\n",
      "   [11.7] Epoch: 46 | NELBO: 313.723666 | ELL: -297.317555 | KL: 16.406111 | Val. NELBO: 313.733628\n",
      "   [11.6] Epoch: 47 | NELBO: 311.618170 | ELL: -295.389519 | KL: 16.228651 | Val. NELBO: 311.532271\n",
      "   [11.5] Epoch: 48 | NELBO: 309.934558 | ELL: -293.797360 | KL: 16.137197 | Val. NELBO: 310.008667\n",
      "   [11.6] Epoch: 49 | NELBO: 308.128682 | ELL: -292.267346 | KL: 15.861336 | Val. NELBO: 308.415170\n",
      "   [11.6] Epoch: 50 | NELBO: 305.370119 | ELL: -289.830695 | KL: 15.539425 | Val. NELBO: 304.691679\n",
      "   [12.3] Epoch: 51 | NELBO: 304.245773 | ELL: -288.585861 | KL: 15.659912 | Val. NELBO: 304.960360\n",
      "   [12.0] Epoch: 52 | NELBO: 302.886570 | ELL: -287.304196 | KL: 15.582373 | Val. NELBO: 303.664015\n",
      "   [11.8] Epoch: 53 | NELBO: 300.674629 | ELL: -285.462539 | KL: 15.212090 | Val. NELBO: 303.019120\n",
      "   [11.7] Epoch: 54 | NELBO: 300.071038 | ELL: -284.870085 | KL: 15.200953 | Val. NELBO: 301.896129\n",
      "   [11.6] Epoch: 55 | NELBO: 298.277624 | ELL: -283.076669 | KL: 15.200956 | Val. NELBO: 297.003715\n",
      "   [11.5] Epoch: 56 | NELBO: 297.583248 | ELL: -282.287787 | KL: 15.295462 | Val. NELBO: 297.487126\n",
      "   [11.7] Epoch: 57 | NELBO: 297.100499 | ELL: -282.104972 | KL: 14.995527 | Val. NELBO: 295.887465\n",
      "   [11.6] Epoch: 58 | NELBO: 295.522743 | ELL: -280.465625 | KL: 15.057119 | Val. NELBO: 295.956289\n",
      "   [11.9] Epoch: 59 | NELBO: 295.032817 | ELL: -280.200536 | KL: 14.832281 | Val. NELBO: 296.506239\n",
      "   [11.7] Epoch: 60 | NELBO: 293.679722 | ELL: -279.009631 | KL: 14.670091 | Val. NELBO: 294.052565\n",
      "   [11.6] Epoch: 61 | NELBO: 292.917786 | ELL: -278.042234 | KL: 14.875551 | Val. NELBO: 293.952667\n",
      "   [11.9] Epoch: 62 | NELBO: 292.547769 | ELL: -278.025757 | KL: 14.522013 | Val. NELBO: 293.332827\n",
      "   [11.4] Epoch: 63 | NELBO: 292.437759 | ELL: -277.689042 | KL: 14.748717 | Val. NELBO: 292.448994\n",
      "   [12.1] Epoch: 64 | NELBO: 291.506560 | ELL: -276.914493 | KL: 14.592068 | Val. NELBO: 292.545263\n",
      "   [11.6] Epoch: 65 | NELBO: 290.526591 | ELL: -275.864549 | KL: 14.662041 | Val. NELBO: 289.860320\n",
      "   [11.5] Epoch: 66 | NELBO: 290.083275 | ELL: -275.767527 | KL: 14.315750 | Val. NELBO: 293.801284\n",
      "   [11.6] Epoch: 67 | NELBO: 290.061724 | ELL: -275.634996 | KL: 14.426727 | Val. NELBO: 289.227753\n",
      "   [11.6] Epoch: 68 | NELBO: 290.060246 | ELL: -275.461872 | KL: 14.598374 | Val. NELBO: 288.349086\n",
      "   [11.5] Epoch: 69 | NELBO: 288.749219 | ELL: -274.473880 | KL: 14.275339 | Val. NELBO: 289.787124\n",
      "   [11.5] Epoch: 70 | NELBO: 289.055629 | ELL: -274.715410 | KL: 14.340220 | Val. NELBO: 290.245977\n",
      "   [11.5] Epoch: 71 | NELBO: 288.748075 | ELL: -274.394290 | KL: 14.353785 | Val. NELBO: 288.204111\n",
      "   [11.6] Epoch: 72 | NELBO: 288.400352 | ELL: -273.892688 | KL: 14.507663 | Val. NELBO: 288.829779\n",
      "   [11.6] Epoch: 73 | NELBO: 288.096625 | ELL: -273.871011 | KL: 14.225614 | Val. NELBO: 287.663264\n",
      "   [11.4] Epoch: 74 | NELBO: 287.614188 | ELL: -273.358975 | KL: 14.255213 | Val. NELBO: 288.296560\n",
      "   [11.7] Epoch: 75 | NELBO: 287.065292 | ELL: -272.771095 | KL: 14.294197 | Val. NELBO: 289.099662\n",
      "   [11.6] Epoch: 76 | NELBO: 287.693015 | ELL: -273.294495 | KL: 14.398519 | Val. NELBO: 287.266044\n",
      "   [11.8] Epoch: 77 | NELBO: 287.035014 | ELL: -272.833079 | KL: 14.201935 | Val. NELBO: 287.749441\n",
      "   [11.4] Epoch: 78 | NELBO: 287.215918 | ELL: -272.874073 | KL: 14.341845 | Val. NELBO: 288.987757\n",
      "   [11.9] Epoch: 79 | NELBO: 286.713788 | ELL: -272.366563 | KL: 14.347224 | Val. NELBO: 287.517654\n",
      "   [11.6] Epoch: 80 | NELBO: 286.963868 | ELL: -272.708482 | KL: 14.255385 | Val. NELBO: 286.464316\n",
      "   [11.6] Epoch: 81 | NELBO: 286.527411 | ELL: -272.264932 | KL: 14.262479 | Val. NELBO: 285.580337\n",
      "   [12.9] Epoch: 82 | NELBO: 287.150200 | ELL: -272.793026 | KL: 14.357174 | Val. NELBO: 286.560079\n"
     ]
    },
    {
     "name": "stdout",
     "output_type": "stream",
     "text": [
      "   [11.5] Epoch: 83 | NELBO: 285.855957 | ELL: -271.746761 | KL: 14.109197 | Val. NELBO: 286.323617\n",
      "   [11.6] Epoch: 84 | NELBO: 286.484783 | ELL: -272.299154 | KL: 14.185629 | Val. NELBO: 287.260282\n",
      "   [11.4] Epoch: 85 | NELBO: 285.993161 | ELL: -271.755457 | KL: 14.237704 | Val. NELBO: 287.036089\n",
      "   [11.5] Epoch: 86 | NELBO: 285.714392 | ELL: -271.613789 | KL: 14.100602 | Val. NELBO: 287.464665\n",
      "   [11.9] Epoch: 87 | NELBO: 285.793839 | ELL: -271.706467 | KL: 14.087372 | Val. NELBO: 286.622731\n",
      "   [11.5] Epoch: 88 | NELBO: 285.721683 | ELL: -271.572603 | KL: 14.149080 | Val. NELBO: 285.487009\n",
      "   [11.4] Epoch: 89 | NELBO: 285.718335 | ELL: -271.740534 | KL: 13.977800 | Val. NELBO: 287.801519\n",
      "   [11.6] Epoch: 90 | NELBO: 285.942524 | ELL: -271.708024 | KL: 14.234500 | Val. NELBO: 285.751196\n",
      "   [11.6] Epoch: 91 | NELBO: 285.611331 | ELL: -271.528205 | KL: 14.083126 | Val. NELBO: 285.298550\n",
      "   [11.6] Epoch: 92 | NELBO: 285.265563 | ELL: -271.362964 | KL: 13.902600 | Val. NELBO: 285.887637\n",
      "   [11.6] Epoch: 93 | NELBO: 285.593591 | ELL: -271.382350 | KL: 14.211241 | Val. NELBO: 287.245616\n",
      "   [11.6] Epoch: 94 | NELBO: 285.153887 | ELL: -271.089979 | KL: 14.063909 | Val. NELBO: 286.887691\n",
      "   [11.8] Epoch: 95 | NELBO: 285.621757 | ELL: -271.442867 | KL: 14.178891 | Val. NELBO: 286.094281\n",
      "   [11.9] Epoch: 96 | NELBO: 284.850942 | ELL: -270.965811 | KL: 13.885131 | Val. NELBO: 285.747761\n",
      "   [12.1] Epoch: 97 | NELBO: 285.738257 | ELL: -271.509572 | KL: 14.228685 | Val. NELBO: 286.166384\n",
      "   [11.9] Epoch: 98 | NELBO: 285.358288 | ELL: -271.280286 | KL: 14.078001 | Val. NELBO: 286.436444\n",
      "   [11.3] Epoch: 99 | NELBO: 285.473885 | ELL: -271.447695 | KL: 14.026190 | Val. NELBO: 284.656296\n",
      "   [12.4] Epoch: 100 | NELBO: 284.716752 | ELL: -270.770782 | KL: 13.945969 | Val. NELBO: 285.762586\n"
     ]
    }
   ],
   "source": [
    "VA = BayesianVAE(\n",
    "                 n_inputs=784,\n",
    "                 n_neurons_encoder = [256, 128],\n",
    "                 n_latent=2,\n",
    "                 n_neurons_decoder = [128, 256],\n",
    "                 batch_size = 128)\n",
    "\n",
    "VA.learn(epochs=100, learning_rate=0.01)"
   ]
  },
  {
   "cell_type": "code",
   "execution_count": 4,
   "metadata": {},
   "outputs": [
    {
     "name": "stdout",
     "output_type": "stream",
     "text": [
      "Model saved in file: DUMPS/bvae/model.ckpt\n"
     ]
    }
   ],
   "source": [
    "VA.serialize('DUMPS/bvae/model.ckpt')"
   ]
  },
  {
   "cell_type": "code",
   "execution_count": 5,
   "metadata": {},
   "outputs": [
    {
     "data": {
      "image/png": "[encoded data removed]",
      "text/plain": [
       "<matplotlib.figure.Figure at 0x7f997bd86b70>"
      ]
     },
     "metadata": {},
     "output_type": "display_data"
    }
   ],
   "source": [
    "VA.plot_enc_dec(10)"
   ]
  },
  {
   "cell_type": "code",
   "execution_count": 6,
   "metadata": {},
   "outputs": [
    {
     "data": {
      "image/png": "[encoded data removed]",
      "text/plain": [
       "<matplotlib.figure.Figure at 0x7f5ce2317d68>"
      ]
     },
     "metadata": {},
     "output_type": "display_data"
    }
   ],
   "source": [
    "VA.plot_enc_dec(10)"
   ]
  },
  {
   "cell_type": "code",
   "execution_count": null,
   "metadata": {},
   "outputs": [],
   "source": []
  }
 ],
 "metadata": {
  "kernelspec": {
   "display_name": "Python 3",
   "language": "python",
   "name": "python3"
  },
  "language_info": {
   "codemirror_mode": {
    "name": "ipython",
    "version": 3
   },
   "file_extension": ".py",
   "mimetype": "text/x-python",
   "name": "python",
   "nbconvert_exporter": "python",
   "pygments_lexer": "ipython3",
   "version": "3.5.2"
  }
 },
 "nbformat": 4,
 "nbformat_minor": 2
}
