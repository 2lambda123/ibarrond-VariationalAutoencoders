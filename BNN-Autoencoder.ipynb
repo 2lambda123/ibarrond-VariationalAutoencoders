{
 "cells": [
  {
   "cell_type": "code",
   "execution_count": 1,
   "metadata": {},
   "outputs": [],
   "source": [
    "import tensorflow as tf\n",
    "from tensorflow.examples.tutorials.mnist import input_data"
   ]
  },
  {
   "cell_type": "code",
   "execution_count": 2,
   "metadata": {},
   "outputs": [],
   "source": [
    "import matplotlib.pyplot as plt"
   ]
  },
  {
   "cell_type": "code",
   "execution_count": 3,
   "metadata": {},
   "outputs": [
    {
     "name": "stdout",
     "output_type": "stream",
     "text": [
      "Extracting MNIST_data/train-images-idx3-ubyte.gz\n",
      "Extracting MNIST_data/train-labels-idx1-ubyte.gz\n",
      "Extracting MNIST_data/t10k-images-idx3-ubyte.gz\n",
      "Extracting MNIST_data/t10k-labels-idx1-ubyte.gz\n"
     ]
    }
   ],
   "source": [
    "mnist = input_data.read_data_sets(\"MNIST_data/\", one_hot=True)"
   ]
  },
  {
   "cell_type": "code",
   "execution_count": 12,
   "metadata": {},
   "outputs": [
    {
     "data": {
      "text/plain": [
       "(784,)"
      ]
     },
     "execution_count": 12,
     "metadata": {},
     "output_type": "execute_result"
    }
   ],
   "source": [
    "mnist.train.images[0].shape"
   ]
  },
  {
   "cell_type": "code",
   "execution_count": 5,
   "metadata": {},
   "outputs": [
    {
     "data": {
      "image/png": "[encoded data removed]",
      "text/plain": [
       "<matplotlib.figure.Figure at 0x7f4d2e66e400>"
      ]
     },
     "metadata": {},
     "output_type": "display_data"
    }
   ],
   "source": [
    "plt.imshow(mnist.train.images[10].reshape(28,28))\n",
    "plt.show()"
   ]
  },
  {
   "cell_type": "code",
   "execution_count": 6,
   "metadata": {},
   "outputs": [
    {
     "data": {
      "text/plain": [
       "array([ 0.        ,  0.        ,  0.        ,  0.        ,  0.        ,\n",
       "        0.        ,  0.        ,  0.        ,  0.        ,  0.        ,\n",
       "        0.        ,  0.        ,  0.        ,  0.        ,  0.        ,\n",
       "        0.        ,  0.        ,  0.        ,  0.        ,  0.        ,\n",
       "        0.        ,  0.        ,  0.        ,  0.        ,  0.        ,\n",
       "        0.        ,  0.        ,  0.        ,  0.        ,  0.        ,\n",
       "        0.        ,  0.        ,  0.        ,  0.        ,  0.        ,\n",
       "        0.        ,  0.        ,  0.        ,  0.        ,  0.        ,\n",
       "        0.        ,  0.        ,  0.        ,  0.        ,  0.        ,\n",
       "        0.        ,  0.        ,  0.        ,  0.        ,  0.        ,\n",
       "        0.        ,  0.        ,  0.        ,  0.        ,  0.        ,\n",
       "        0.        ,  0.        ,  0.        ,  0.        ,  0.        ,\n",
       "        0.        ,  0.        ,  0.        ,  0.        ,  0.        ,\n",
       "        0.        ,  0.        ,  0.        ,  0.        ,  0.        ,\n",
       "        0.        ,  0.        ,  0.        ,  0.        ,  0.        ,\n",
       "        0.        ,  0.        ,  0.        ,  0.        ,  0.        ,\n",
       "        0.        ,  0.        ,  0.        ,  0.        ,  0.        ,\n",
       "        0.        ,  0.        ,  0.        ,  0.        ,  0.        ,\n",
       "        0.        ,  0.        ,  0.        ,  0.        ,  0.        ,\n",
       "        0.        ,  0.        ,  0.        ,  0.        ,  0.        ,\n",
       "        0.        ,  0.        ,  0.        ,  0.        ,  0.        ,\n",
       "        0.        ,  0.        ,  0.        ,  0.        ,  0.        ,\n",
       "        0.        ,  0.        ,  0.        ,  0.        ,  0.        ,\n",
       "        0.        ,  0.        ,  0.        ,  0.        ,  0.        ,\n",
       "        0.        ,  0.        ,  0.        ,  0.        ,  0.        ,\n",
       "        0.        ,  0.        ,  0.        ,  0.        ,  0.        ,\n",
       "        0.        ,  0.        ,  0.        ,  0.        ,  0.        ,\n",
       "        0.        ,  0.        ,  0.        ,  0.        ,  0.        ,\n",
       "        0.        ,  0.        ,  0.        ,  0.        ,  0.        ,\n",
       "        0.        ,  0.        ,  0.        ,  0.        ,  0.        ,\n",
       "        0.        ,  0.        ,  0.        ,  0.        ,  0.        ,\n",
       "        0.        ,  0.        ,  0.        ,  0.        ,  0.        ,\n",
       "        0.        ,  0.        ,  0.        ,  0.        ,  0.        ,\n",
       "        0.        ,  0.        ,  0.        ,  0.        ,  0.        ,\n",
       "        0.        ,  0.        ,  0.        ,  0.        ,  0.        ,\n",
       "        0.        ,  0.        ,  0.        ,  0.        ,  0.        ,\n",
       "        0.        ,  0.        ,  0.        ,  0.        ,  0.        ,\n",
       "        0.        ,  0.        ,  0.        ,  0.        ,  0.        ,\n",
       "        0.        ,  0.        ,  0.        ,  0.        ,  0.        ,\n",
       "        0.        ,  0.        ,  0.        ,  0.        ,  0.        ,\n",
       "        0.        ,  0.        ,  0.        ,  0.        ,  0.        ,\n",
       "        0.        ,  0.        ,  0.38039219,  0.37647063,  0.3019608 ,\n",
       "        0.46274513,  0.2392157 ,  0.        ,  0.        ,  0.        ,\n",
       "        0.        ,  0.        ,  0.        ,  0.        ,  0.        ,\n",
       "        0.        ,  0.        ,  0.        ,  0.        ,  0.        ,\n",
       "        0.        ,  0.        ,  0.35294119,  0.5411765 ,  0.92156869,\n",
       "        0.92156869,  0.92156869,  0.92156869,  0.92156869,  0.92156869,\n",
       "        0.98431379,  0.98431379,  0.97254908,  0.99607849,  0.96078438,\n",
       "        0.92156869,  0.74509805,  0.08235294,  0.        ,  0.        ,\n",
       "        0.        ,  0.        ,  0.        ,  0.        ,  0.        ,\n",
       "        0.        ,  0.        ,  0.        ,  0.        ,  0.54901963,\n",
       "        0.98431379,  0.99607849,  0.99607849,  0.99607849,  0.99607849,\n",
       "        0.99607849,  0.99607849,  0.99607849,  0.99607849,  0.99607849,\n",
       "        0.99607849,  0.99607849,  0.99607849,  0.99607849,  0.99607849,\n",
       "        0.74117649,  0.09019608,  0.        ,  0.        ,  0.        ,\n",
       "        0.        ,  0.        ,  0.        ,  0.        ,  0.        ,\n",
       "        0.        ,  0.        ,  0.88627458,  0.99607849,  0.81568635,\n",
       "        0.78039223,  0.78039223,  0.78039223,  0.78039223,  0.54509807,\n",
       "        0.2392157 ,  0.2392157 ,  0.2392157 ,  0.2392157 ,  0.2392157 ,\n",
       "        0.50196081,  0.8705883 ,  0.99607849,  0.99607849,  0.74117649,\n",
       "        0.08235294,  0.        ,  0.        ,  0.        ,  0.        ,\n",
       "        0.        ,  0.        ,  0.        ,  0.        ,  0.        ,\n",
       "        0.14901961,  0.32156864,  0.0509804 ,  0.        ,  0.        ,\n",
       "        0.        ,  0.        ,  0.        ,  0.        ,  0.        ,\n",
       "        0.        ,  0.        ,  0.        ,  0.        ,  0.13333334,\n",
       "        0.83529419,  0.99607849,  0.99607849,  0.45098042,  0.        ,\n",
       "        0.        ,  0.        ,  0.        ,  0.        ,  0.        ,\n",
       "        0.        ,  0.        ,  0.        ,  0.        ,  0.        ,\n",
       "        0.        ,  0.        ,  0.        ,  0.        ,  0.        ,\n",
       "        0.        ,  0.        ,  0.        ,  0.        ,  0.        ,\n",
       "        0.        ,  0.        ,  0.        ,  0.32941177,  0.99607849,\n",
       "        0.99607849,  0.91764712,  0.        ,  0.        ,  0.        ,\n",
       "        0.        ,  0.        ,  0.        ,  0.        ,  0.        ,\n",
       "        0.        ,  0.        ,  0.        ,  0.        ,  0.        ,\n",
       "        0.        ,  0.        ,  0.        ,  0.        ,  0.        ,\n",
       "        0.        ,  0.        ,  0.        ,  0.        ,  0.        ,\n",
       "        0.        ,  0.32941177,  0.99607849,  0.99607849,  0.91764712,\n",
       "        0.        ,  0.        ,  0.        ,  0.        ,  0.        ,\n",
       "        0.        ,  0.        ,  0.        ,  0.        ,  0.        ,\n",
       "        0.        ,  0.        ,  0.        ,  0.        ,  0.        ,\n",
       "        0.        ,  0.        ,  0.        ,  0.        ,  0.        ,\n",
       "        0.        ,  0.        ,  0.        ,  0.41568631,  0.6156863 ,\n",
       "        0.99607849,  0.99607849,  0.95294124,  0.20000002,  0.        ,\n",
       "        0.        ,  0.        ,  0.        ,  0.        ,  0.        ,\n",
       "        0.        ,  0.        ,  0.        ,  0.        ,  0.        ,\n",
       "        0.        ,  0.        ,  0.        ,  0.        ,  0.        ,\n",
       "        0.        ,  0.09803922,  0.45882356,  0.89411771,  0.89411771,\n",
       "        0.89411771,  0.99215692,  0.99607849,  0.99607849,  0.99607849,\n",
       "        0.99607849,  0.94117653,  0.        ,  0.        ,  0.        ,\n",
       "        0.        ,  0.        ,  0.        ,  0.        ,  0.        ,\n",
       "        0.        ,  0.        ,  0.        ,  0.        ,  0.        ,\n",
       "        0.        ,  0.        ,  0.26666668,  0.4666667 ,  0.86274517,\n",
       "        0.99607849,  0.99607849,  0.99607849,  0.99607849,  0.99607849,\n",
       "        0.99607849,  0.99607849,  0.99607849,  0.99607849,  0.55686277,\n",
       "        0.        ,  0.        ,  0.        ,  0.        ,  0.        ,\n",
       "        0.        ,  0.        ,  0.        ,  0.        ,  0.        ,\n",
       "        0.        ,  0.        ,  0.        ,  0.14509805,  0.73333335,\n",
       "        0.99215692,  0.99607849,  0.99607849,  0.99607849,  0.87450987,\n",
       "        0.80784321,  0.80784321,  0.29411766,  0.26666668,  0.84313732,\n",
       "        0.99607849,  0.99607849,  0.45882356,  0.        ,  0.        ,\n",
       "        0.        ,  0.        ,  0.        ,  0.        ,  0.        ,\n",
       "        0.        ,  0.        ,  0.        ,  0.        ,  0.        ,\n",
       "        0.44313729,  0.8588236 ,  0.99607849,  0.94901967,  0.89019614,\n",
       "        0.45098042,  0.34901962,  0.12156864,  0.        ,  0.        ,\n",
       "        0.        ,  0.        ,  0.7843138 ,  0.99607849,  0.9450981 ,\n",
       "        0.16078432,  0.        ,  0.        ,  0.        ,  0.        ,\n",
       "        0.        ,  0.        ,  0.        ,  0.        ,  0.        ,\n",
       "        0.        ,  0.        ,  0.        ,  0.66274512,  0.99607849,\n",
       "        0.6901961 ,  0.24313727,  0.        ,  0.        ,  0.        ,\n",
       "        0.        ,  0.        ,  0.        ,  0.        ,  0.18823531,\n",
       "        0.90588242,  0.99607849,  0.91764712,  0.        ,  0.        ,\n",
       "        0.        ,  0.        ,  0.        ,  0.        ,  0.        ,\n",
       "        0.        ,  0.        ,  0.        ,  0.        ,  0.        ,\n",
       "        0.        ,  0.07058824,  0.48627454,  0.        ,  0.        ,\n",
       "        0.        ,  0.        ,  0.        ,  0.        ,  0.        ,\n",
       "        0.        ,  0.        ,  0.32941177,  0.99607849,  0.99607849,\n",
       "        0.65098041,  0.        ,  0.        ,  0.        ,  0.        ,\n",
       "        0.        ,  0.        ,  0.        ,  0.        ,  0.        ,\n",
       "        0.        ,  0.        ,  0.        ,  0.        ,  0.        ,\n",
       "        0.        ,  0.        ,  0.        ,  0.        ,  0.        ,\n",
       "        0.        ,  0.        ,  0.        ,  0.        ,  0.        ,\n",
       "        0.54509807,  0.99607849,  0.9333334 ,  0.22352943,  0.        ,\n",
       "        0.        ,  0.        ,  0.        ,  0.        ,  0.        ,\n",
       "        0.        ,  0.        ,  0.        ,  0.        ,  0.        ,\n",
       "        0.        ,  0.        ,  0.        ,  0.        ,  0.        ,\n",
       "        0.        ,  0.        ,  0.        ,  0.        ,  0.        ,\n",
       "        0.        ,  0.        ,  0.82352948,  0.98039222,  0.99607849,\n",
       "        0.65882355,  0.        ,  0.        ,  0.        ,  0.        ,\n",
       "        0.        ,  0.        ,  0.        ,  0.        ,  0.        ,\n",
       "        0.        ,  0.        ,  0.        ,  0.        ,  0.        ,\n",
       "        0.        ,  0.        ,  0.        ,  0.        ,  0.        ,\n",
       "        0.        ,  0.        ,  0.        ,  0.        ,  0.        ,\n",
       "        0.94901967,  0.99607849,  0.93725497,  0.22352943,  0.        ,\n",
       "        0.        ,  0.        ,  0.        ,  0.        ,  0.        ,\n",
       "        0.        ,  0.        ,  0.        ,  0.        ,  0.        ,\n",
       "        0.        ,  0.        ,  0.        ,  0.        ,  0.        ,\n",
       "        0.        ,  0.        ,  0.        ,  0.        ,  0.        ,\n",
       "        0.        ,  0.        ,  0.34901962,  0.98431379,  0.9450981 ,\n",
       "        0.33725491,  0.        ,  0.        ,  0.        ,  0.        ,\n",
       "        0.        ,  0.        ,  0.        ,  0.        ,  0.        ,\n",
       "        0.        ,  0.        ,  0.        ,  0.        ,  0.        ,\n",
       "        0.        ,  0.        ,  0.        ,  0.        ,  0.        ,\n",
       "        0.        ,  0.        ,  0.        ,  0.        ,  0.01960784,\n",
       "        0.80784321,  0.96470594,  0.6156863 ,  0.        ,  0.        ,\n",
       "        0.        ,  0.        ,  0.        ,  0.        ,  0.        ,\n",
       "        0.        ,  0.        ,  0.        ,  0.        ,  0.        ,\n",
       "        0.        ,  0.        ,  0.        ,  0.        ,  0.        ,\n",
       "        0.        ,  0.        ,  0.        ,  0.        ,  0.        ,\n",
       "        0.        ,  0.        ,  0.01568628,  0.45882356,  0.27058825,\n",
       "        0.        ,  0.        ,  0.        ,  0.        ,  0.        ,\n",
       "        0.        ,  0.        ,  0.        ,  0.        ,  0.        ,\n",
       "        0.        ,  0.        ,  0.        ,  0.        ,  0.        ,\n",
       "        0.        ,  0.        ,  0.        ,  0.        ,  0.        ,\n",
       "        0.        ,  0.        ,  0.        ,  0.        ,  0.        ,\n",
       "        0.        ,  0.        ,  0.        ,  0.        ,  0.        ,\n",
       "        0.        ,  0.        ,  0.        ,  0.        ,  0.        ,\n",
       "        0.        ,  0.        ,  0.        ,  0.        ], dtype=float32)"
      ]
     },
     "execution_count": 6,
     "metadata": {},
     "output_type": "execute_result"
    }
   ],
   "source": [
    "mnist.train.images[0]"
   ]
  },
  {
   "cell_type": "code",
   "execution_count": 7,
   "metadata": {},
   "outputs": [
    {
     "name": "stdout",
     "output_type": "stream",
     "text": [
      "Python 3.5.2\r\n"
     ]
    }
   ],
   "source": [
    "! python --version"
   ]
  },
  {
   "cell_type": "code",
   "execution_count": 4,
   "metadata": {},
   "outputs": [],
   "source": [
    "class VariationalInference(object):\n",
    "    def __init__(self, n_datapoints, neurons_per_layer, mc_samples, batch_size):\n",
    "        # SIZES\n",
    "        self.N = n_datapoints\n",
    "        self.layers = len(neurons_per_layer)\n",
    "        self.neurons_per_layer = neurons_per_layer\n",
    "        self.M = batch_size\n",
    "        ## Set the number of Monte Carlo samples as a placeholder so that it can be different for training and test\n",
    "        # self.L =  tf.placeholder(tf.int32)\n",
    "        self.L = mc_samples\n",
    "        \n",
    "        ## Batch data placeholders\n",
    "        with tf.name_scope('input'):\n",
    "            self.X = tf.placeholder(tf.float32, shape=[None, neurons_per_layer[0]], name='x-input')\n",
    "            self.Y = tf.placeholder(tf.float32, shape=[None, neurons_per_layer[-1]], name='y-input')\n",
    "            \n",
    "        with tf.name_scope('input_reshape'):\n",
    "            image_shaped_input = tf.reshape(self.X, [-1, 28, 28, 1])\n",
    "            tf.summary.image('input', image_shaped_input, 10)\n",
    "        \n",
    "        # PRIOR OF WEIGHTS\n",
    "        self.prior_mean_W, self.log_prior_var_W = self.get_prior_W()\n",
    "    \n",
    "        # POSTERIOR OF WEIGHTS\n",
    "        self.mean_W, self.log_var_W = self.init_posterior_W()\n",
    "        ## Builds whole computational graph with relevant quantities as part of the class\n",
    "        # self.loss, self.kl, self.ell, self.layer_out = self.get_nelbo()\n",
    "        self.loss, self.kl, self.ell = self.get_nelbo()\n",
    "\n",
    "        ## Initialize the session\n",
    "        self.session = tf.Session()\n",
    "    \n",
    "    def variable_summaries(self, var):\n",
    "        \"\"\"Attach a lot of summaries to a Tensor (for TensorBoard visualization).\"\"\"\n",
    "        with tf.name_scope('summaries'):\n",
    "            mean = tf.reduce_mean(var)\n",
    "            tf.summary.scalar('mean', mean)\n",
    "            with tf.name_scope('stddev'):\n",
    "                stddev = tf.sqrt(tf.reduce_mean(tf.square(var - mean)))\n",
    "                tf.summary.scalar('stddev', stddev)\n",
    "                tf.summary.scalar('max', tf.reduce_max(var))\n",
    "                tf.summary.scalar('min', tf.reduce_min(var))\n",
    "                tf.summary.histogram('histogram', var)\n",
    "\n",
    "    def get_prior_W(self):\n",
    "        \"\"\"\n",
    "        Define a prior for the weight distribution.\n",
    "        We assume them to be standard normal iid.\n",
    "        \"\"\"\n",
    "        prior_mean_W = []\n",
    "        log_prior_var_W = []\n",
    "        \n",
    "        for i in range(self.layers - 1):\n",
    "            d_in = self.neurons_per_layer[i] + 1 # + 1 because of bias weight\n",
    "            d_out = self.neurons_per_layer[i+1]\n",
    "            \n",
    "            with tf.name_scope(\"layer_\" + str(i+1) + \"_prior_weights\"):\n",
    "                prior_mean = tf.Variable(tf.zeros([d_in, d_out]), name=\"p_W\")\n",
    "                log_prior_var = tf.Variable(tf.zeros([d_in, d_out]), name=\"p_W\")\n",
    "                tf.summary.histogram('prior_mean', tf.reshape(prior_mean, [-1]))\n",
    "                tf.summary.histogram('prior_logvar', tf.reshape(log_prior_var, [-1]))\n",
    "            \n",
    "            prior_mean_W.append(prior_mean)\n",
    "            log_prior_var_W.append(log_prior_var)\n",
    "        \n",
    "        return prior_mean_W, log_prior_var_W\n",
    "\n",
    "    def init_posterior_W(self):\n",
    "        \"\"\"\n",
    "        The (variational) posterior is assumed to be\n",
    "        drawn from P mutually independent normal distributions.\n",
    "        Hence, we have a diagonal covariance matrix and only need to store an array.\n",
    "        \"\"\"\n",
    "        mean_W = []\n",
    "        log_var_W = []\n",
    "        \n",
    "        for i in range(self.layers - 1):\n",
    "            d_in = self.neurons_per_layer[i] + 1 # + 1 because of bias weight\n",
    "            d_out = self.neurons_per_layer[i+1]\n",
    "\n",
    "            with tf.name_scope(\"layer_\" + str(i+1) + \"_posterior_weights\"):\n",
    "                post_mean = tf.Variable(tf.zeros([d_in, d_out]), name=\"q_W\")\n",
    "                post_log_var = tf.Variable(tf.zeros([d_in, d_out]), name=\"q_W\")\n",
    "                tf.summary.histogram('posterior_mean', tf.reshape(post_mean, [-1]))\n",
    "                tf.summary.histogram('posterior_logvar', tf.reshape(post_log_var, [-1]))\n",
    "            \n",
    "            mean_W.append(post_mean)\n",
    "            log_var_W.append(post_log_var)\n",
    "            \n",
    "        return mean_W, log_var_W\n",
    "    \n",
    "    def get_std_norm_samples(self, d_in, d_out):\n",
    "        \"\"\"\n",
    "        Draws N(0,1) samples of dimension [d_in, d_out].\n",
    "        \"\"\"\n",
    "        return tf.random_normal(shape=[d_in, d_out])\n",
    "\n",
    "    def sample_from_W(self):\n",
    "        \"\"\"\n",
    "        Samples from the variational posterior approximation.\n",
    "        We draw W-samples for each layer using the reparameterization trick.\n",
    "        \"\"\"\n",
    "\n",
    "        for i in range(self.layers - 1):\n",
    "            d_in = self.neurons_per_layer[i] + 1 # + 1 because of bias weight\n",
    "            d_out = self.neurons_per_layer[i+1]\n",
    "            z = self.get_std_norm_samples(d_in, d_out)\n",
    "            ## division by 2 to obtain pure standard deviation\n",
    "            w_from_q = tf.add(tf.multiply(z, tf.exp(self.log_var_W[i] / 2)), self.mean_W[i])\n",
    "        \n",
    "            yield w_from_q\n",
    "    \n",
    "    def feedforward(self):\n",
    "        \"\"\"\n",
    "        Feedforward pass excluding last layer's transfer function.\n",
    "        \"\"\"\n",
    "        \n",
    "        # We will generate L output samples\n",
    "        for i in range(self.L):\n",
    "            \n",
    "            inputs = self.X\n",
    "            \n",
    "            # Go through each layer (one weight matrix at a time)\n",
    "            # and compute the (intermediate) output\n",
    "            j = 0\n",
    "            for weight_matrix in self.sample_from_W():\n",
    "                activations = tf.matmul(inputs, weight_matrix[1:,:]) + weight_matrix[0,:]\n",
    "                # tf.summary.histogram('activations', activations)\n",
    "\n",
    "                # if last layer is reached, do not use transfer function (softmax later on)\n",
    "                if j == (self.layers - 2):\n",
    "                    outputs = tf.sigmoid(activations)\n",
    "                else:\n",
    "                    outputs = tf.nn.softplus(activations)\n",
    "\n",
    "                #outputs = tf.sigmoid(activations)\n",
    "                #tf.summary.histogram('outputs', outputs)\n",
    "\n",
    "                inputs = outputs\n",
    "                j += 1\n",
    "                \n",
    "            # use generator to save memory space\n",
    "            yield outputs\n",
    "    \n",
    "    def predict(self):\n",
    "        \"\"\"\n",
    "        Predict using monte carlo sampling.\n",
    "        \"\"\"\n",
    "        \n",
    "        expected_output = 0\n",
    "        \n",
    "        for output in self.feedforward():\n",
    "            expected_output += output\n",
    "            \n",
    "        return expected_output / self.L\n",
    "    \n",
    "    def get_ell(self):\n",
    "        \"\"\"\n",
    "        Returns the expected log-likelihood of the lower bound.\n",
    "        For this we draw L samples from W, compute the log-likelihood for each\n",
    "        and average the log-likelihoods in the end (expectation approximation).\n",
    "        \"\"\"\n",
    "        \n",
    "        log_p = 0\n",
    "        \n",
    "        for output in self.feedforward():\n",
    "            # y = tf.nn.softmax(tf.matmul(self.X, W_sample[i]) + b)\n",
    "            # log_p_per_sample = tf.reduce_mean(tf.reduce_sum(self.Y * tf.log(y), reduction_indices=[1]))\n",
    "            # soft_max_cross_entropy_with_logits is a numerically stable version of cross entropy\n",
    "            # log_p_per_sample = tf.reduce_mean(-tf.nn.softmax_cross_entropy_with_logits(logits=output, labels=self.Y))\n",
    "            \n",
    "            log_p_per_sample = tf.reduce_mean(tf.reduce_sum(\n",
    "                                    self.Y * tf.log(output + 1e-10) + (1 - self.Y) * tf.log(1 - output + 1e-10),\n",
    "                                    reduction_indices=[1]))\n",
    "            log_p += log_p_per_sample\n",
    "        \n",
    "        return log_p / self.L\n",
    "\n",
    "    def get_kl(self, mean_W, log_var_W, prior_mean_W, log_prior_var_W):\n",
    "        \"\"\"\n",
    "        KL[q || p] returns the KL-divergence between the prior p and the variational posterior q.\n",
    "        :param mq: vector of means for q\n",
    "        :param log_vq: vector of log-variances for q\n",
    "        :param mp: vector of means for p\n",
    "        :param log_vp: vector of log-variances for p\n",
    "        :return: KL divergence between q and p\n",
    "        \"\"\"\n",
    "        mq = mean_W\n",
    "        log_vq = log_var_W\n",
    "        mp = prior_mean_W\n",
    "        log_vp = log_prior_var_W\n",
    "        \n",
    "        #log_vp = tf.reshape(log_vp, (-1, 1))\n",
    "        return 0.5 * tf.reduce_sum(log_vp - log_vq + (tf.pow(mq - mp, 2) / tf.exp(log_vp)) + tf.exp(log_vq - log_vp) - 1)\n",
    "\n",
    "    def get_kl_multi(self):\n",
    "        \"\"\"\n",
    "        Compute KL divergence between variational and prior using a multi-layer-network\n",
    "        \"\"\"\n",
    "        kl = 0\n",
    "        for i in range(self.layers - 1):\n",
    "            kl = kl + self.get_kl(self.mean_W[i], self.log_var_W[i], self.prior_mean_W[i], self.log_prior_var_W[i])\n",
    "        return kl\n",
    "    \n",
    "    def get_nelbo(self):\n",
    "        \"\"\" Returns the negative ELBOW, which allows us to minimize instead of maximize. \"\"\"\n",
    "        kl = self.get_kl_multi()\n",
    "        # ell, layer_out = self.get_ell()\n",
    "        ell = self.get_ell()\n",
    "        # DKL_gaussian - tf.mean([log_likelihood(w) for w in w_from_q])\n",
    "        nelbo = kl - self.N/tf.cast(self.M, \"float32\") * ell\n",
    "        # return nelbo, kl, ell, layer_out\n",
    "        return nelbo, kl, ell\n",
    "    \n",
    "    def learn(self, learning_rate=0.01, epochs=50):\n",
    "        \"\"\" Our learning procedure \"\"\"\n",
    "        optimizer = tf.train.AdamOptimizer(learning_rate)\n",
    "\n",
    "        ## Set all_variables to contain the complete set of TF variables to optimize\n",
    "        all_variables = tf.trainable_variables()\n",
    "\n",
    "        ## Define the optimizer\n",
    "        train_step = optimizer.minimize(self.loss, var_list=all_variables)\n",
    "\n",
    "        tf.summary.scalar('negative_elbo', self.loss)\n",
    "        tf.summary.scalar('kl_div', self.kl)\n",
    "        tf.summary.scalar('ell', self.ell)\n",
    "        \n",
    "        merged = tf.summary.merge_all()\n",
    "        \n",
    "        train_writer = tf.summary.FileWriter('logs/train', self.session.graph)\n",
    "        test_writer = tf.summary.FileWriter('logs/test')        \n",
    "        \n",
    "        ## Initialize all variables\n",
    "        init = tf.global_variables_initializer()\n",
    "\n",
    "        ## Initialize TF session\n",
    "        self.session.run(init)\n",
    "\n",
    "        ## Set the folder where the logs are going to be written \n",
    "        # summary_writer = tf.train.SummaryWriter('logs/', self.sessihttp://localhost:8888/notebooks/Bayesian%20Neural%20Network.ipynb#on.graph)\n",
    "        #summary_writer = tf.summary.FileWriter('logs/', self.session.graph)\n",
    "        \n",
    "        for i in range(epochs):\n",
    "            print(\"Epoch: \", i)\n",
    "            \n",
    "            for batch_i in range(mnist.train.num_examples // self.M):\n",
    "                batch_xs, _ = mnist.train.next_batch(self.M)\n",
    "\n",
    "                _, summary = self.session.run([train_step, merged], feed_dict={self.X: batch_xs, self.Y: batch_xs})\n",
    "                train_writer.add_summary(summary, i)\n",
    "            \n",
    "            summary, nelbo = self.session.run([merged, self.get_nelbo()],\n",
    "                                              feed_dict={self.X: mnist.test.images, self.Y: mnist.test.images})\n",
    "            print(\"i=\" + repr(i)  + \"  kl=\" + repr(nelbo[1]) + \"  nell=\" + repr(-nelbo[2])  + \"  nelbo=\" + repr(nelbo[0]), end=\"\\n\")\n",
    "        \n",
    "            test_writer.add_summary(summary, i)\n",
    "        \n",
    "        train_writer.close()\n",
    "        test_writer.close()\n",
    "        \n",
    "    def test_pred(self, input_vector):\n",
    "        output = self.predict()\n",
    "        return self.session.run(output, feed_dict={self.X: input_vector, self.Y: mnist.test.images})\n",
    "    \n",
    "    def benchmark(self):\n",
    "        output = self.predict()\n",
    "        correct_prediction = tf.equal(tf.argmax(output,1),tf.argmax(self.Y,1))\n",
    "        accuracy = tf.reduce_mean(tf.cast(correct_prediction, tf.float32))\n",
    "        print(self.session.run(accuracy, feed_dict={self.X: mnist.test.images, self.Y: mnist.test.labels}))\n",
    "        \n",
    "    def debug(self):\n",
    "        all_variables = tf.trainable_variables()\n",
    "        init = tf.global_variables_initializer()\n",
    "        self.session.run(init)\n",
    "        print(self.session.run([self.prior_mean_W, self.log_prior_var_W], feed_dict={self.X: mnist.test.images, self.Y: mnist.test.labels}))"
   ]
  },
  {
   "cell_type": "code",
   "execution_count": 5,
   "metadata": {},
   "outputs": [],
   "source": [
    "# n_datapoints, weight_dim, n_samples, batch_size"
   ]
  },
  {
   "cell_type": "code",
   "execution_count": 6,
   "metadata": {},
   "outputs": [],
   "source": [
    "n_datapoints = mnist.train.num_examples\n",
    "# including input neurons\n",
    "mc_samples = 10\n",
    "batch_size = 100\n",
    "epochs = 10"
   ]
  },
  {
   "cell_type": "code",
   "execution_count": 10,
   "metadata": {},
   "outputs": [
    {
     "data": {
      "text/plain": [
       "<tensorflow.python.client.session.Session at 0x7fcd07d13128>"
      ]
     },
     "execution_count": 10,
     "metadata": {},
     "output_type": "execute_result"
    }
   ],
   "source": [
    "# see if GPU support is enabled\n",
    "tf.Session(config=tf.ConfigProto(log_device_placement=True))"
   ]
  },
  {
   "cell_type": "code",
   "execution_count": 7,
   "metadata": {
    "scrolled": true
   },
   "outputs": [
    {
     "name": "stdout",
     "output_type": "stream",
     "text": [
      "Epoch:  0\n"
     ]
    },
    {
     "ename": "KeyboardInterrupt",
     "evalue": "",
     "output_type": "error",
     "traceback": [
      "\u001b[0;31m---------------------------------------------------------------------------\u001b[0m",
      "\u001b[0;31mKeyboardInterrupt\u001b[0m                         Traceback (most recent call last)",
      "\u001b[0;32m<ipython-input-7-b0fd916fe0d8>\u001b[0m in \u001b[0;36m<module>\u001b[0;34m()\u001b[0m\n\u001b[1;32m      2\u001b[0m \u001b[0mneurons_per_layer\u001b[0m \u001b[0;34m=\u001b[0m \u001b[0;34m[\u001b[0m\u001b[0;36m784\u001b[0m\u001b[0;34m,\u001b[0m \u001b[0;36m2048\u001b[0m\u001b[0;34m,\u001b[0m \u001b[0;36m2048\u001b[0m\u001b[0;34m,\u001b[0m \u001b[0;36m2\u001b[0m\u001b[0;34m,\u001b[0m \u001b[0;36m2048\u001b[0m\u001b[0;34m,\u001b[0m \u001b[0;36m2048\u001b[0m\u001b[0;34m,\u001b[0m \u001b[0;36m784\u001b[0m\u001b[0;34m]\u001b[0m\u001b[0;34m\u001b[0m\u001b[0m\n\u001b[1;32m      3\u001b[0m \u001b[0mvi\u001b[0m \u001b[0;34m=\u001b[0m \u001b[0mVariationalInference\u001b[0m\u001b[0;34m(\u001b[0m\u001b[0mn_datapoints\u001b[0m\u001b[0;34m,\u001b[0m \u001b[0mneurons_per_layer\u001b[0m\u001b[0;34m,\u001b[0m \u001b[0mmc_samples\u001b[0m\u001b[0;34m,\u001b[0m \u001b[0mbatch_size\u001b[0m\u001b[0;34m)\u001b[0m\u001b[0;34m\u001b[0m\u001b[0m\n\u001b[0;32m----> 4\u001b[0;31m \u001b[0mvi\u001b[0m\u001b[0;34m.\u001b[0m\u001b[0mlearn\u001b[0m\u001b[0;34m(\u001b[0m\u001b[0mlearning_rate\u001b[0m\u001b[0;34m=\u001b[0m\u001b[0;36m0.01\u001b[0m\u001b[0;34m,\u001b[0m \u001b[0mepochs\u001b[0m\u001b[0;34m=\u001b[0m\u001b[0mepochs\u001b[0m\u001b[0;34m)\u001b[0m\u001b[0;34m\u001b[0m\u001b[0m\n\u001b[0m",
      "\u001b[0;32m<ipython-input-4-d74e047d6f8e>\u001b[0m in \u001b[0;36mlearn\u001b[0;34m(self, learning_rate, epochs)\u001b[0m\n\u001b[1;32m    248\u001b[0m                 \u001b[0mbatch_xs\u001b[0m\u001b[0;34m,\u001b[0m \u001b[0m_\u001b[0m \u001b[0;34m=\u001b[0m \u001b[0mmnist\u001b[0m\u001b[0;34m.\u001b[0m\u001b[0mtrain\u001b[0m\u001b[0;34m.\u001b[0m\u001b[0mnext_batch\u001b[0m\u001b[0;34m(\u001b[0m\u001b[0mself\u001b[0m\u001b[0;34m.\u001b[0m\u001b[0mM\u001b[0m\u001b[0;34m)\u001b[0m\u001b[0;34m\u001b[0m\u001b[0m\n\u001b[1;32m    249\u001b[0m \u001b[0;34m\u001b[0m\u001b[0m\n\u001b[0;32m--> 250\u001b[0;31m                 \u001b[0m_\u001b[0m\u001b[0;34m,\u001b[0m \u001b[0msummary\u001b[0m \u001b[0;34m=\u001b[0m \u001b[0mself\u001b[0m\u001b[0;34m.\u001b[0m\u001b[0msession\u001b[0m\u001b[0;34m.\u001b[0m\u001b[0mrun\u001b[0m\u001b[0;34m(\u001b[0m\u001b[0;34m[\u001b[0m\u001b[0mtrain_step\u001b[0m\u001b[0;34m,\u001b[0m \u001b[0mmerged\u001b[0m\u001b[0;34m]\u001b[0m\u001b[0;34m,\u001b[0m \u001b[0mfeed_dict\u001b[0m\u001b[0;34m=\u001b[0m\u001b[0;34m{\u001b[0m\u001b[0mself\u001b[0m\u001b[0;34m.\u001b[0m\u001b[0mX\u001b[0m\u001b[0;34m:\u001b[0m \u001b[0mbatch_xs\u001b[0m\u001b[0;34m,\u001b[0m \u001b[0mself\u001b[0m\u001b[0;34m.\u001b[0m\u001b[0mY\u001b[0m\u001b[0;34m:\u001b[0m \u001b[0mbatch_xs\u001b[0m\u001b[0;34m}\u001b[0m\u001b[0;34m)\u001b[0m\u001b[0;34m\u001b[0m\u001b[0m\n\u001b[0m\u001b[1;32m    251\u001b[0m                 \u001b[0mtrain_writer\u001b[0m\u001b[0;34m.\u001b[0m\u001b[0madd_summary\u001b[0m\u001b[0;34m(\u001b[0m\u001b[0msummary\u001b[0m\u001b[0;34m,\u001b[0m \u001b[0mi\u001b[0m\u001b[0;34m)\u001b[0m\u001b[0;34m\u001b[0m\u001b[0m\n\u001b[1;32m    252\u001b[0m \u001b[0;34m\u001b[0m\u001b[0m\n",
      "\u001b[0;32m~/python-projects/environments/tf-simd/lib/python3.5/site-packages/tensorflow/python/client/session.py\u001b[0m in \u001b[0;36mrun\u001b[0;34m(self, fetches, feed_dict, options, run_metadata)\u001b[0m\n\u001b[1;32m    887\u001b[0m     \u001b[0;32mtry\u001b[0m\u001b[0;34m:\u001b[0m\u001b[0;34m\u001b[0m\u001b[0m\n\u001b[1;32m    888\u001b[0m       result = self._run(None, fetches, feed_dict, options_ptr,\n\u001b[0;32m--> 889\u001b[0;31m                          run_metadata_ptr)\n\u001b[0m\u001b[1;32m    890\u001b[0m       \u001b[0;32mif\u001b[0m \u001b[0mrun_metadata\u001b[0m\u001b[0;34m:\u001b[0m\u001b[0;34m\u001b[0m\u001b[0m\n\u001b[1;32m    891\u001b[0m         \u001b[0mproto_data\u001b[0m \u001b[0;34m=\u001b[0m \u001b[0mtf_session\u001b[0m\u001b[0;34m.\u001b[0m\u001b[0mTF_GetBuffer\u001b[0m\u001b[0;34m(\u001b[0m\u001b[0mrun_metadata_ptr\u001b[0m\u001b[0;34m)\u001b[0m\u001b[0;34m\u001b[0m\u001b[0m\n",
      "\u001b[0;32m~/python-projects/environments/tf-simd/lib/python3.5/site-packages/tensorflow/python/client/session.py\u001b[0m in \u001b[0;36m_run\u001b[0;34m(self, handle, fetches, feed_dict, options, run_metadata)\u001b[0m\n\u001b[1;32m   1118\u001b[0m     \u001b[0;32mif\u001b[0m \u001b[0mfinal_fetches\u001b[0m \u001b[0;32mor\u001b[0m \u001b[0mfinal_targets\u001b[0m \u001b[0;32mor\u001b[0m \u001b[0;34m(\u001b[0m\u001b[0mhandle\u001b[0m \u001b[0;32mand\u001b[0m \u001b[0mfeed_dict_tensor\u001b[0m\u001b[0;34m)\u001b[0m\u001b[0;34m:\u001b[0m\u001b[0;34m\u001b[0m\u001b[0m\n\u001b[1;32m   1119\u001b[0m       results = self._do_run(handle, final_targets, final_fetches,\n\u001b[0;32m-> 1120\u001b[0;31m                              feed_dict_tensor, options, run_metadata)\n\u001b[0m\u001b[1;32m   1121\u001b[0m     \u001b[0;32melse\u001b[0m\u001b[0;34m:\u001b[0m\u001b[0;34m\u001b[0m\u001b[0m\n\u001b[1;32m   1122\u001b[0m       \u001b[0mresults\u001b[0m \u001b[0;34m=\u001b[0m \u001b[0;34m[\u001b[0m\u001b[0;34m]\u001b[0m\u001b[0;34m\u001b[0m\u001b[0m\n",
      "\u001b[0;32m~/python-projects/environments/tf-simd/lib/python3.5/site-packages/tensorflow/python/client/session.py\u001b[0m in \u001b[0;36m_do_run\u001b[0;34m(self, handle, target_list, fetch_list, feed_dict, options, run_metadata)\u001b[0m\n\u001b[1;32m   1315\u001b[0m     \u001b[0;32mif\u001b[0m \u001b[0mhandle\u001b[0m \u001b[0;32mis\u001b[0m \u001b[0;32mNone\u001b[0m\u001b[0;34m:\u001b[0m\u001b[0;34m\u001b[0m\u001b[0m\n\u001b[1;32m   1316\u001b[0m       return self._do_call(_run_fn, self._session, feeds, fetches, targets,\n\u001b[0;32m-> 1317\u001b[0;31m                            options, run_metadata)\n\u001b[0m\u001b[1;32m   1318\u001b[0m     \u001b[0;32melse\u001b[0m\u001b[0;34m:\u001b[0m\u001b[0;34m\u001b[0m\u001b[0m\n\u001b[1;32m   1319\u001b[0m       \u001b[0;32mreturn\u001b[0m \u001b[0mself\u001b[0m\u001b[0;34m.\u001b[0m\u001b[0m_do_call\u001b[0m\u001b[0;34m(\u001b[0m\u001b[0m_prun_fn\u001b[0m\u001b[0;34m,\u001b[0m \u001b[0mself\u001b[0m\u001b[0;34m.\u001b[0m\u001b[0m_session\u001b[0m\u001b[0;34m,\u001b[0m \u001b[0mhandle\u001b[0m\u001b[0;34m,\u001b[0m \u001b[0mfeeds\u001b[0m\u001b[0;34m,\u001b[0m \u001b[0mfetches\u001b[0m\u001b[0;34m)\u001b[0m\u001b[0;34m\u001b[0m\u001b[0m\n",
      "\u001b[0;32m~/python-projects/environments/tf-simd/lib/python3.5/site-packages/tensorflow/python/client/session.py\u001b[0m in \u001b[0;36m_do_call\u001b[0;34m(self, fn, *args)\u001b[0m\n\u001b[1;32m   1321\u001b[0m   \u001b[0;32mdef\u001b[0m \u001b[0m_do_call\u001b[0m\u001b[0;34m(\u001b[0m\u001b[0mself\u001b[0m\u001b[0;34m,\u001b[0m \u001b[0mfn\u001b[0m\u001b[0;34m,\u001b[0m \u001b[0;34m*\u001b[0m\u001b[0margs\u001b[0m\u001b[0;34m)\u001b[0m\u001b[0;34m:\u001b[0m\u001b[0;34m\u001b[0m\u001b[0m\n\u001b[1;32m   1322\u001b[0m     \u001b[0;32mtry\u001b[0m\u001b[0;34m:\u001b[0m\u001b[0;34m\u001b[0m\u001b[0m\n\u001b[0;32m-> 1323\u001b[0;31m       \u001b[0;32mreturn\u001b[0m \u001b[0mfn\u001b[0m\u001b[0;34m(\u001b[0m\u001b[0;34m*\u001b[0m\u001b[0margs\u001b[0m\u001b[0;34m)\u001b[0m\u001b[0;34m\u001b[0m\u001b[0m\n\u001b[0m\u001b[1;32m   1324\u001b[0m     \u001b[0;32mexcept\u001b[0m \u001b[0merrors\u001b[0m\u001b[0;34m.\u001b[0m\u001b[0mOpError\u001b[0m \u001b[0;32mas\u001b[0m \u001b[0me\u001b[0m\u001b[0;34m:\u001b[0m\u001b[0;34m\u001b[0m\u001b[0m\n\u001b[1;32m   1325\u001b[0m       \u001b[0mmessage\u001b[0m \u001b[0;34m=\u001b[0m \u001b[0mcompat\u001b[0m\u001b[0;34m.\u001b[0m\u001b[0mas_text\u001b[0m\u001b[0;34m(\u001b[0m\u001b[0me\u001b[0m\u001b[0;34m.\u001b[0m\u001b[0mmessage\u001b[0m\u001b[0;34m)\u001b[0m\u001b[0;34m\u001b[0m\u001b[0m\n",
      "\u001b[0;32m~/python-projects/environments/tf-simd/lib/python3.5/site-packages/tensorflow/python/client/session.py\u001b[0m in \u001b[0;36m_run_fn\u001b[0;34m(session, feed_dict, fetch_list, target_list, options, run_metadata)\u001b[0m\n\u001b[1;32m   1300\u001b[0m           return tf_session.TF_Run(session, options,\n\u001b[1;32m   1301\u001b[0m                                    \u001b[0mfeed_dict\u001b[0m\u001b[0;34m,\u001b[0m \u001b[0mfetch_list\u001b[0m\u001b[0;34m,\u001b[0m \u001b[0mtarget_list\u001b[0m\u001b[0;34m,\u001b[0m\u001b[0;34m\u001b[0m\u001b[0m\n\u001b[0;32m-> 1302\u001b[0;31m                                    status, run_metadata)\n\u001b[0m\u001b[1;32m   1303\u001b[0m \u001b[0;34m\u001b[0m\u001b[0m\n\u001b[1;32m   1304\u001b[0m     \u001b[0;32mdef\u001b[0m \u001b[0m_prun_fn\u001b[0m\u001b[0;34m(\u001b[0m\u001b[0msession\u001b[0m\u001b[0;34m,\u001b[0m \u001b[0mhandle\u001b[0m\u001b[0;34m,\u001b[0m \u001b[0mfeed_dict\u001b[0m\u001b[0;34m,\u001b[0m \u001b[0mfetch_list\u001b[0m\u001b[0;34m)\u001b[0m\u001b[0;34m:\u001b[0m\u001b[0;34m\u001b[0m\u001b[0m\n",
      "\u001b[0;31mKeyboardInterrupt\u001b[0m: "
     ]
    }
   ],
   "source": [
    "# n_datapoints, n_layers, neurons_per_layer, mc_samples, batch_size\n",
    "neurons_per_layer = [784, 2048, 2048, 2, 2048, 2048, 784]\n",
    "vi = VariationalInference(n_datapoints, neurons_per_layer, mc_samples, batch_size)\n",
    "vi.learn(learning_rate=0.01, epochs=epochs)"
   ]
  },
  {
   "cell_type": "code",
   "execution_count": 8,
   "metadata": {},
   "outputs": [
    {
     "data": {
      "text/plain": [
       "numpy.ndarray"
      ]
     },
     "execution_count": 8,
     "metadata": {},
     "output_type": "execute_result"
    }
   ],
   "source": [
    "type(mnist.test.images[0])"
   ]
  },
  {
   "cell_type": "code",
   "execution_count": 10,
   "metadata": {},
   "outputs": [],
   "source": [
    "import numpy as np"
   ]
  },
  {
   "cell_type": "code",
   "execution_count": 11,
   "metadata": {},
   "outputs": [
    {
     "data": {
      "text/plain": [
       "(1, 784)"
      ]
     },
     "execution_count": 11,
     "metadata": {},
     "output_type": "execute_result"
    }
   ],
   "source": [
    "np.reshape(mnist.test.images[0], [1, -1]).shape"
   ]
  },
  {
   "cell_type": "code",
   "execution_count": 16,
   "metadata": {},
   "outputs": [
    {
     "data": {
      "image/png": "[encoded data removed]",
      "text/plain": [
       "<matplotlib.figure.Figure at 0x7fe0050708d0>"
      ]
     },
     "metadata": {},
     "output_type": "display_data"
    }
   ],
   "source": [
    "plt.imshow(mnist.test.images[0].reshape(28,28))\n",
    "plt.show()"
   ]
  },
  {
   "cell_type": "code",
   "execution_count": 21,
   "metadata": {},
   "outputs": [
    {
     "data": {
      "image/png": "[encoded data removed]",
      "text/plain": [
       "<matplotlib.figure.Figure at 0x7fdfae142668>"
      ]
     },
     "metadata": {},
     "output_type": "display_data"
    }
   ],
   "source": [
    "img_out = vi.test_pred(np.reshape(mnist.test.images[200], [1, -1]))\n",
    "\n",
    "plt.imshow(img_out.reshape(28,28))\n",
    "plt.show()"
   ]
  },
  {
   "cell_type": "code",
   "execution_count": 27,
   "metadata": {
    "scrolled": true
   },
   "outputs": [
    {
     "name": "stdout",
     "output_type": "stream",
     "text": [
      "i=0  kl=0.40948671  nell=3.7837021  nelbo=2081.4456\n",
      "i=100  kl=0.0097986162  nell=2.527931  nelbo=1390.3718\n",
      "i=200  kl=0.0025273561  nell=2.44379  nelbo=1344.087\n",
      "i=300  kl=0.004008472  nell=2.40974  nelbo=1325.361\n",
      "i=400  kl=0.0078063905  nell=2.2114987  nelbo=1216.3322\n",
      "i=500  kl=0.012652636  nell=2.0823584  nelbo=1145.3098\n",
      "i=600  kl=0.016389519  nell=2.0481839  nelbo=1126.5175\n",
      "i=700  kl=0.01134482  nell=2.0340207  nelbo=1118.7227\n",
      "i=800  kl=0.0098190308  nell=2.0190938  nelbo=1110.5114\n",
      "i=900  kl=0.012732029  nell=2.0130954  nelbo=1107.2152\n",
      "i=1000  kl=0.0087222755  nell=1.9915596  nelbo=1095.3665\n",
      "i=1100  kl=0.026929289  nell=1.9394716  nelbo=1066.7363\n",
      "i=1200  kl=0.034531385  nell=1.8631294  nelbo=1024.7557\n",
      "i=1300  kl=0.063946992  nell=1.7455273  nelbo=960.10394\n",
      "i=1400  kl=0.050398767  nell=1.6979859  nelbo=933.94263\n",
      "i=1500  kl=0.072067857  nell=1.6569531  nelbo=911.3963\n",
      "i=1600  kl=0.07861957  nell=1.6340542  nelbo=898.80841\n",
      "i=1700  kl=0.053618908  nell=1.6419401  nelbo=903.12067\n",
      "i=1800  kl=0.13229337  nell=1.6135145  nelbo=887.56525\n",
      "i=1900  kl=0.096142292  nell=1.6008078  nelbo=880.54041\n",
      "i=2000  kl=0.055015057  nell=1.5997508  nelbo=879.91791\n",
      "i=2100  kl=0.056247681  nell=1.6005688  nelbo=880.36908\n",
      "i=2200  kl=0.11911348  nell=1.5922419  nelbo=875.85217\n",
      "i=2300  kl=0.062289894  nell=1.579706  nelbo=868.90057\n",
      "i=2400  kl=0.11474741  nell=1.5719258  nelbo=864.67389\n",
      "i=2500  kl=0.13185343  nell=1.5364045  nelbo=845.1543\n",
      "i=2600  kl=0.13562751  nell=1.4264808  nelbo=784.70007\n",
      "i=2700  kl=0.21272939  nell=1.335958  nelbo=734.98962\n",
      "i=2800  kl=0.2468037  nell=1.102206  nelbo=606.46014\n",
      "i=2900  kl=0.29848257  nell=1.0523112  nelbo=579.06964\n",
      "i=3000  kl=0.27547702  nell=1.0161655  nelbo=559.1665\n",
      "i=3100  kl=0.25667536  nell=0.97336024  nelbo=535.6048\n",
      "i=3200  kl=0.36794147  nell=0.91614407  nelbo=504.24719\n",
      "i=3300  kl=0.38029578  nell=0.88068074  nelbo=484.75473\n",
      "i=3400  kl=0.44015628  nell=0.85761392  nelbo=472.12781\n",
      "i=3500  kl=0.46825051  nell=0.7722863  nelbo=425.22574\n",
      "i=3600  kl=0.52459395  nell=0.66057122  nelbo=363.83878\n",
      "i=3700  kl=0.50556594  nell=0.63410473  nelbo=349.26315\n",
      "i=3800  kl=0.46232873  nell=0.60888171  nelbo=335.34729\n",
      "i=3900  kl=0.60634136  nell=0.59175879  nelbo=326.0737\n",
      "i=4000  kl=0.45179713  nell=0.58245885  nelbo=320.80414\n",
      "i=4100  kl=0.47843435  nell=0.5712952  nelbo=314.6908\n",
      "i=4200  kl=0.42793521  nell=0.56561339  nelbo=311.51532\n",
      "i=4300  kl=0.36232567  nell=0.55961448  nelbo=308.1503\n",
      "i=4400  kl=0.40470195  nell=0.5656575  nelbo=311.51633\n",
      "i=4500  kl=0.39614737  nell=0.55668986  nelbo=306.57556\n",
      "i=4600  kl=0.4529824  nell=0.54105657  nelbo=298.03409\n",
      "i=4700  kl=0.46143031  nell=0.54159033  nelbo=298.33612\n",
      "i=4800  kl=0.380595  nell=0.53336573  nelbo=293.73172\n",
      "i=4900  kl=0.49263969  nell=0.5273751  nelbo=290.54895\n",
      "0.8661\n"
     ]
    }
   ],
   "source": [
    "# n_datapoints, n_layers, neurons_per_layer, mc_samples, batch_size\n",
    "neurons_per_layer = [784, 10, 10]\n",
    "vi = VariationalInference(n_datapoints, neurons_per_layer, mc_samples, batch_size)\n",
    "mu, log_var_W_final = vi.learn(learning_rate=0.01, iterations=iterations)\n",
    "vi.benchmark()"
   ]
  },
  {
   "cell_type": "code",
   "execution_count": 28,
   "metadata": {
    "scrolled": true
   },
   "outputs": [
    {
     "name": "stdout",
     "output_type": "stream",
     "text": [
      "i=0  kl=0.40487623  nell=3.7610855  nelbo=2069.0017\n",
      "i=100  kl=0.012763292  nell=2.5673923  nelbo=1412.0786\n",
      "i=200  kl=0.0024033487  nell=2.4512503  nelbo=1348.1901\n",
      "i=300  kl=0.00085803866  nell=2.3622317  nelbo=1299.2283\n",
      "i=400  kl=0.0012028217  nell=2.357306  nelbo=1296.5195\n",
      "i=500  kl=0.0013866723  nell=2.3526604  nelbo=1293.9646\n",
      "i=600  kl=0.00076860189  nell=2.335717  nelbo=1284.645\n",
      "i=700  kl=0.00076407194  nell=2.3366673  nelbo=1285.1677\n",
      "i=800  kl=0.001691401  nell=2.3222926  nelbo=1277.2626\n",
      "i=900  kl=0.0010777712  nell=2.3226094  nelbo=1277.4363\n",
      "i=1000  kl=0.0017136037  nell=2.3146696  nelbo=1273.0699\n",
      "i=1100  kl=0.0012540817  nell=2.3191648  nelbo=1275.5419\n",
      "i=1200  kl=0.0011963844  nell=2.3168225  nelbo=1274.2537\n",
      "i=1300  kl=0.0020878315  nell=2.3139679  nelbo=1272.6844\n",
      "i=1400  kl=0.0013838708  nell=2.309835  nelbo=1270.4105\n",
      "i=1500  kl=0.003454268  nell=2.3049176  nelbo=1267.7081\n",
      "i=1600  kl=0.055281848  nell=2.0548382  nelbo=1130.2163\n",
      "i=1700  kl=0.097657859  nell=2.0248241  nelbo=1113.751\n",
      "i=1800  kl=0.089481205  nell=2.0085025  nelbo=1104.7659\n",
      "i=1900  kl=0.052276403  nell=1.9970194  nelbo=1098.413\n",
      "i=2000  kl=0.081985593  nell=1.9798348  nelbo=1088.9912\n",
      "i=2100  kl=0.15503988  nell=1.8376513  nelbo=1010.8632\n",
      "i=2200  kl=0.26438686  nell=1.6732323  nelbo=920.54218\n",
      "i=2300  kl=0.3505173  nell=1.5794798  nelbo=869.06439\n",
      "i=2400  kl=0.56506097  nell=1.4203527  nelbo=781.75903\n",
      "i=2500  kl=0.51119769  nell=1.2166258  nelbo=669.65533\n",
      "i=2600  kl=0.70934093  nell=1.0430939  nelbo=574.41101\n",
      "i=2700  kl=0.68368292  nell=0.9097603  nelbo=501.05185\n",
      "i=2800  kl=0.60475111  nell=0.84483922  nelbo=465.2663\n",
      "i=2900  kl=0.52488625  nell=0.79020751  nelbo=435.13901\n",
      "i=3000  kl=0.66629028  nell=0.76230752  nelbo=419.93542\n",
      "i=3100  kl=0.38698798  nell=0.72487801  nelbo=399.06992\n",
      "i=3200  kl=0.57415032  nell=0.68527234  nelbo=377.47394\n",
      "i=3300  kl=0.51340365  nell=0.61119902  nelbo=336.67285\n",
      "i=3400  kl=0.75683075  nell=0.5603193  nelbo=308.93246\n",
      "i=3500  kl=0.48415148  nell=0.52217168  nelbo=287.67859\n",
      "i=3600  kl=0.54991424  nell=0.50539607  nelbo=278.51776\n",
      "i=3700  kl=0.53492677  nell=0.48117226  nelbo=265.17966\n",
      "i=3800  kl=0.86270428  nell=0.46795368  nelbo=258.23721\n",
      "i=3900  kl=0.4567813  nell=0.45330304  nelbo=249.77345\n",
      "i=4000  kl=0.65311629  nell=0.4419044  nelbo=243.70055\n",
      "i=4100  kl=0.47253725  nell=0.42837843  nelbo=236.08067\n",
      "i=4200  kl=0.50137115  nell=0.4175795  nelbo=230.1701\n",
      "i=4300  kl=0.45695493  nell=0.42028108  nelbo=231.61156\n",
      "i=4400  kl=0.87476444  nell=0.40721068  nelbo=224.84064\n",
      "i=4500  kl=0.63167083  nell=0.3994976  nelbo=220.35535\n",
      "i=4600  kl=0.57775754  nell=0.39062712  nelbo=215.42267\n",
      "i=4700  kl=0.69651473  nell=0.39944655  nelbo=220.39212\n",
      "i=4800  kl=0.54928845  nell=0.38847554  nelbo=214.21083\n",
      "i=4900  kl=0.74351627  nell=0.38370633  nelbo=211.782\n",
      "0.9034\n"
     ]
    }
   ],
   "source": [
    "neurons_per_layer = [784, 10, 10, 10]\n",
    "vi = VariationalInference(n_datapoints, neurons_per_layer, mc_samples, batch_size)\n",
    "mu, log_var_W_final = vi.learn(learning_rate=0.01, iterations=iterations)\n",
    "vi.benchmark()"
   ]
  },
  {
   "cell_type": "code",
   "execution_count": 11,
   "metadata": {
    "scrolled": true
   },
   "outputs": [
    {
     "name": "stdout",
     "output_type": "stream",
     "text": [
      "i=0  kl=0.41307092  nell=4.0774603  nelbo=2243.0164\n",
      "i=100  kl=0.023146302  nell=2.7363048  nelbo=1504.9908\n",
      "i=200  kl=0.0048297942  nell=2.4252973  nelbo=1333.9183\n",
      "i=300  kl=0.0023159683  nell=2.3810675  nelbo=1309.5895\n",
      "i=400  kl=0.0021038353  nell=2.3753421  nelbo=1306.4403\n",
      "i=500  kl=0.0023694932  nell=2.3523958  nelbo=1293.8199\n",
      "i=600  kl=0.0012452602  nell=2.3467257  nelbo=1290.7003\n",
      "i=700  kl=0.00090840459  nell=2.3342929  nelbo=1283.8619\n",
      "i=800  kl=0.0014319122  nell=2.3260868  nelbo=1279.3492\n",
      "i=900  kl=0.00095486641  nell=2.3189051  nelbo=1275.3988\n",
      "i=1000  kl=0.00072363019  nell=2.32341  nelbo=1277.8762\n",
      "i=1100  kl=0.0011562705  nell=2.3174789  nelbo=1274.6145\n",
      "i=1200  kl=0.0013821721  nell=2.3109155  nelbo=1271.0049\n",
      "i=1300  kl=0.0036362112  nell=2.3148322  nelbo=1273.1614\n",
      "i=1400  kl=0.002412647  nell=2.3137445  nelbo=1272.5619\n",
      "i=1500  kl=0.0027191937  nell=2.3131518  nelbo=1272.2362\n",
      "i=1600  kl=0.0019071698  nell=2.3109798  nelbo=1271.0409\n",
      "i=1700  kl=0.003613621  nell=2.3094106  nelbo=1270.1794\n",
      "i=1800  kl=0.0020056665  nell=2.3085735  nelbo=1269.7174\n",
      "i=1900  kl=0.0028785169  nell=2.3059871  nelbo=1268.2959\n",
      "i=2000  kl=0.0065725446  nell=2.306076  nelbo=1268.3484\n",
      "i=2100  kl=0.0055891871  nell=2.3074031  nelbo=1269.0773\n",
      "i=2200  kl=0.0064718127  nell=2.3062968  nelbo=1268.4697\n",
      "i=2300  kl=0.0045077205  nell=2.3050454  nelbo=1267.7794\n",
      "i=2400  kl=0.013353169  nell=2.3069799  nelbo=1268.8523\n",
      "i=2500  kl=0.0035472512  nell=2.3064837  nelbo=1268.5696\n",
      "i=2600  kl=0.0080041885  nell=2.3046279  nelbo=1267.5533\n",
      "i=2700  kl=0.0044919252  nell=2.3056476  nelbo=1268.1107\n",
      "i=2800  kl=0.010489285  nell=2.3041072  nelbo=1267.2694\n",
      "i=2900  kl=0.017656446  nell=2.3042541  nelbo=1267.3574\n",
      "i=3000  kl=0.0067665577  nell=2.3038421  nelbo=1267.1199\n",
      "i=3100  kl=0.018592507  nell=2.3022895  nelbo=1266.2778\n",
      "i=3200  kl=0.015156865  nell=2.3030269  nelbo=1266.6799\n",
      "i=3300  kl=0.47396865  nell=2.0852418  nelbo=1147.3569\n",
      "i=3400  kl=0.49587467  nell=1.9495201  nelbo=1072.7319\n",
      "i=3500  kl=0.30462429  nell=1.794926  nelbo=987.51398\n",
      "i=3600  kl=0.3093563  nell=1.7160451  nelbo=944.13416\n",
      "i=3700  kl=0.44269219  nell=1.6730807  nelbo=920.63708\n",
      "i=3800  kl=0.29805097  nell=1.6491808  nelbo=907.34747\n",
      "i=3900  kl=0.321538  nell=1.6159723  nelbo=889.10626\n",
      "i=4000  kl=0.40584511  nell=1.5526485  nelbo=854.36255\n",
      "i=4100  kl=0.85396785  nell=1.4847893  nelbo=817.48804\n",
      "i=4200  kl=0.6194272  nell=1.422062  nelbo=782.75354\n",
      "i=4300  kl=0.95694375  nell=1.351704  nelbo=744.39417\n",
      "i=4400  kl=0.5565362  nell=1.3009375  nelbo=716.07214\n",
      "i=4500  kl=0.83025521  nell=1.1221281  nelbo=618.00073\n",
      "i=4600  kl=0.7586329  nell=0.99394333  nelbo=547.42743\n",
      "i=4700  kl=0.6395753  nell=0.89885587  nelbo=495.01031\n",
      "i=4800  kl=0.72443765  nell=0.86107576  nelbo=474.3161\n",
      "i=4900  kl=0.52302229  nell=0.82860535  nelbo=456.25595\n",
      "i=5000  kl=0.60943305  nell=0.79382652  nelbo=437.21402\n",
      "i=5100  kl=0.43406454  nell=0.76943034  nelbo=423.62073\n",
      "i=5200  kl=0.59163713  nell=0.74606025  nelbo=410.92477\n",
      "i=5300  kl=0.46735671  nell=0.71491563  nelbo=393.67096\n",
      "i=5400  kl=0.56303048  nell=0.68450528  nelbo=377.04092\n",
      "i=5500  kl=0.58656013  nell=0.67014325  nelbo=369.16534\n",
      "i=5600  kl=0.76906967  nell=0.66327965  nelbo=365.57288\n",
      "i=5700  kl=0.73364103  nell=0.64929825  nelbo=357.84769\n",
      "i=5800  kl=0.55436563  nell=0.64597738  nelbo=355.84192\n",
      "i=5900  kl=0.46572948  nell=0.64401788  nelbo=354.67557\n",
      "i=6000  kl=0.66972154  nell=0.62134707  nelbo=342.41058\n",
      "i=6100  kl=0.87180156  nell=0.61155856  nelbo=337.229\n",
      "i=6200  kl=0.5293752  nell=0.60608226  nelbo=333.87463\n",
      "i=6300  kl=0.70501751  nell=0.59299982  nelbo=326.85492\n",
      "i=6400  kl=0.70464277  nell=0.585724  nelbo=322.85284\n",
      "i=6500  kl=0.56753653  nell=0.57003677  nelbo=314.08777\n",
      "i=6600  kl=1.0913408  nell=0.55772758  nelbo=307.84149\n",
      "i=6700  kl=0.83501297  nell=0.55329192  nelbo=305.14557\n",
      "i=6800  kl=0.51784229  nell=0.54695314  nelbo=301.34207\n",
      "i=6900  kl=0.71239489  nell=0.53523129  nelbo=295.0896\n",
      "i=7000  kl=1.1033146  nell=0.52521503  nelbo=289.97156\n",
      "i=7100  kl=0.78174353  nell=0.51644957  nelbo=284.82901\n",
      "i=7200  kl=0.52754205  nell=0.51424432  nelbo=283.36191\n",
      "i=7300  kl=1.0004497  nell=0.51364654  nelbo=283.50604\n",
      "i=7400  kl=1.0273237  nell=0.50846195  nelbo=280.6814\n",
      "i=7500  kl=0.6804868  nell=0.49609858  nelbo=273.5347\n",
      "i=7600  kl=1.0776412  nell=0.49924088  nelbo=275.66013\n",
      "i=7700  kl=0.80139422  nell=0.49967122  nelbo=275.62057\n",
      "i=7800  kl=0.78781617  nell=0.49627057  nelbo=273.73663\n",
      "i=7900  kl=1.0873618  nell=0.4886609  nelbo=269.85086\n",
      "i=8000  kl=0.60732919  nell=0.48510736  nelbo=267.41638\n",
      "i=8100  kl=0.83686519  nell=0.47754067  nelbo=263.48422\n",
      "i=8200  kl=0.89124805  nell=0.48048419  nelbo=265.15753\n",
      "i=8300  kl=1.1302853  nell=0.47751108  nelbo=263.76138\n",
      "i=8400  kl=1.1002082  nell=0.47343326  nelbo=261.48853\n",
      "i=8500  kl=1.0487852  nell=0.47159189  nelbo=260.42435\n",
      "i=8600  kl=0.70836174  nell=0.48048726  nelbo=264.97638\n",
      "i=8700  kl=0.98770601  nell=0.4657827  nelbo=257.16818\n",
      "i=8800  kl=1.0021315  nell=0.46680602  nelbo=257.74545\n",
      "i=8900  kl=1.1901791  nell=0.47073621  nelbo=260.09509\n",
      "i=9000  kl=1.2053242  nell=0.46253139  nelbo=255.59758\n",
      "i=9100  kl=0.74809951  nell=0.46223384  nelbo=254.9767\n",
      "i=9200  kl=0.84873909  nell=0.46535  nelbo=256.79123\n",
      "i=9300  kl=1.1171606  nell=0.45482159  nelbo=251.26903\n",
      "i=9400  kl=0.67318052  nell=0.45441595  nelbo=250.60196\n",
      "i=9500  kl=1.5023484  nell=0.45340022  nelbo=250.87247\n",
      "i=9600  kl=1.2696513  nell=0.45327392  nelbo=250.57031\n",
      "i=9700  kl=0.86977357  nell=0.44536772  nelbo=245.82202\n",
      "i=9800  kl=0.92380846  nell=0.44932207  nelbo=248.05095\n",
      "i=9900  kl=0.92155278  nell=0.4513936  nelbo=249.18803\n",
      "0.8475\n"
     ]
    }
   ],
   "source": [
    "neurons_per_layer = [784, 10, 10, 10, 10]\n",
    "vi = VariationalInference(n_datapoints, neurons_per_layer, mc_samples, batch_size)\n",
    "mu, log_var_W_final = vi.learn(learning_rate=0.01, iterations=iterations)\n",
    "vi.benchmark()"
   ]
  },
  {
   "cell_type": "code",
   "execution_count": null,
   "metadata": {
    "collapsed": true
   },
   "outputs": [],
   "source": []
  }
 ],
 "metadata": {
  "kernelspec": {
   "display_name": "Python 3",
   "language": "python",
   "name": "python3"
  },
  "language_info": {
   "codemirror_mode": {
    "name": "ipython",
    "version": 3
   },
   "file_extension": ".py",
   "mimetype": "text/x-python",
   "name": "python",
   "nbconvert_exporter": "python",
   "pygments_lexer": "ipython3",
   "version": "3.5.2"
  }
 },
 "nbformat": 4,
 "nbformat_minor": 2
}
