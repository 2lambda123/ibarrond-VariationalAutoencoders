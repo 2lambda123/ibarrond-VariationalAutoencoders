{
 "cells": [
  {
   "cell_type": "code",
   "execution_count": 1,
   "metadata": {},
   "outputs": [],
   "source": [
    "import numpy as np\n",
    "import time\n",
    "import gc"
   ]
  },
  {
   "cell_type": "code",
   "execution_count": 2,
   "metadata": {},
   "outputs": [
    {
     "name": "stdout",
     "output_type": "stream",
     "text": [
      "Extracting MNIST_data/train-images-idx3-ubyte.gz\n",
      "Extracting MNIST_data/train-labels-idx1-ubyte.gz\n",
      "Extracting MNIST_data/t10k-images-idx3-ubyte.gz\n",
      "Extracting MNIST_data/t10k-labels-idx1-ubyte.gz\n"
     ]
    }
   ],
   "source": [
    "from models.bayesian_vae import BayesianVAE"
   ]
  },
  {
   "cell_type": "code",
   "execution_count": null,
   "metadata": {},
   "outputs": [
    {
     "name": "stdout",
     "output_type": "stream",
     "text": [
      "Shape X: (?, ?, 784)\n",
      "Shape W: (?, 784, 256)\n",
      "Shape X: (?, ?, 256)\n",
      "Shape W: (?, 256, 128)\n",
      "   [11.1] Epoch: 01 | NELBO: 3268.370978 | ELL: -3257.285382 | KL: 11.085598 | Val. NELBO: 1623.912911\n",
      "   [10.7] Epoch: 02 | NELBO: 1490.637436 | ELL: -1486.597849 | KL: 4.039585 | Val. NELBO: 1409.407699\n",
      "   [11.5] Epoch: 03 | NELBO: 1379.203426 | ELL: -1375.518697 | KL: 3.684729 | Val. NELBO: 1326.000823\n",
      "   [12.3] Epoch: 04 | NELBO: 1292.284116 | ELL: -1288.358136 | KL: 3.925982 | Val. NELBO: 1255.662419\n",
      "   [11.6] Epoch: 05 | NELBO: 1208.950363 | ELL: -1204.692130 | KL: 4.258236 | Val. NELBO: 1180.023237\n",
      "   [11.6] Epoch: 06 | NELBO: 1137.132053 | ELL: -1132.432568 | KL: 4.699485 | Val. NELBO: 1096.700777\n",
      "   [11.6] Epoch: 07 | NELBO: 1067.198696 | ELL: -1062.107744 | KL: 5.090951 | Val. NELBO: 1035.744114\n",
      "   [12.3] Epoch: 08 | NELBO: 999.380059 | ELL: -993.839816 | KL: 5.540241 | Val. NELBO: 970.239117\n",
      "   [13.0] Epoch: 09 | NELBO: 938.923539 | ELL: -932.943955 | KL: 5.979584 | Val. NELBO: 904.409873\n",
      "   [12.2] Epoch: 10 | NELBO: 882.489543 | ELL: -876.052993 | KL: 6.436551 | Val. NELBO: 858.168665\n",
      "   [12.1] Epoch: 11 | NELBO: 832.931197 | ELL: -825.823092 | KL: 7.108106 | Val. NELBO: 804.771559\n",
      "   [11.6] Epoch: 12 | NELBO: 787.237156 | ELL: -779.515680 | KL: 7.721475 | Val. NELBO: 764.814401\n",
      "   [11.6] Epoch: 13 | NELBO: 746.024093 | ELL: -737.549484 | KL: 8.474609 | Val. NELBO: 720.405893\n",
      "   [11.6] Epoch: 14 | NELBO: 709.273574 | ELL: -699.851418 | KL: 9.422156 | Val. NELBO: 694.277255\n",
      "   [11.6] Epoch: 15 | NELBO: 673.727356 | ELL: -663.341905 | KL: 10.385453 | Val. NELBO: 656.096091\n",
      "   [11.6] Epoch: 16 | NELBO: 641.585026 | ELL: -630.496381 | KL: 11.088646 | Val. NELBO: 631.199607\n",
      "   [12.0] Epoch: 17 | NELBO: 614.272781 | ELL: -602.137132 | KL: 12.135649 | Val. NELBO: 598.596002\n",
      "   [11.8] Epoch: 18 | NELBO: 588.758805 | ELL: -575.484320 | KL: 13.274485 | Val. NELBO: 573.865756\n"
     ]
    }
   ],
   "source": [
    "VA = BayesianVAE(\n",
    "                 n_inputs=784,\n",
    "                 n_neurons_encoder = [256, 128],\n",
    "                 n_latent=2,\n",
    "                 n_neurons_decoder = [128, 256],\n",
    "                 batch_size = 128)\n",
    "\n",
    "VA.learn(epochs=30)"
   ]
  },
  {
   "cell_type": "code",
   "execution_count": null,
   "metadata": {},
   "outputs": [],
   "source": []
  }
 ],
 "metadata": {
  "kernelspec": {
   "display_name": "Python 3",
   "language": "python",
   "name": "python3"
  },
  "language_info": {
   "codemirror_mode": {
    "name": "ipython",
    "version": 3
   },
   "file_extension": ".py",
   "mimetype": "text/x-python",
   "name": "python",
   "nbconvert_exporter": "python",
   "pygments_lexer": "ipython3",
   "version": "3.5.2"
  }
 },
 "nbformat": 4,
 "nbformat_minor": 2
}
